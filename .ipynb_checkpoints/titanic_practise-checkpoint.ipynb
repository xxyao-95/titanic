{
 "cells": [
  {
   "cell_type": "markdown",
   "id": "861b3fdc-6ca8-497d-80be-96680873f528",
   "metadata": {},
   "source": [
    "# Titanic Decision TreePractise"
   ]
  },
  {
   "cell_type": "code",
   "execution_count": 1,
   "id": "5624fc75-3377-48cd-992a-39d60da8cdfa",
   "metadata": {},
   "outputs": [],
   "source": [
    "# import libraries\n",
    "import numpy as np\n",
    "import pandas as pd\n",
    "import os\n",
    "import matplotlib.pyplot as plt\n",
    "import seaborn as sns"
   ]
  },
  {
   "cell_type": "code",
   "execution_count": 2,
   "id": "01f88aa7-4dc1-466f-9fdc-25764bb91a86",
   "metadata": {},
   "outputs": [],
   "source": [
    "import operator"
   ]
  },
  {
   "cell_type": "markdown",
   "id": "202ca785-2b2a-4728-8a72-ea7f8362c37b",
   "metadata": {},
   "source": [
    "## 1. Load and process data"
   ]
  },
  {
   "cell_type": "code",
   "execution_count": 3,
   "id": "d4db9f90-296a-47cb-954d-45de96f15b8f",
   "metadata": {},
   "outputs": [
    {
     "data": {
      "text/html": [
       "<div>\n",
       "<style scoped>\n",
       "    .dataframe tbody tr th:only-of-type {\n",
       "        vertical-align: middle;\n",
       "    }\n",
       "\n",
       "    .dataframe tbody tr th {\n",
       "        vertical-align: top;\n",
       "    }\n",
       "\n",
       "    .dataframe thead th {\n",
       "        text-align: right;\n",
       "    }\n",
       "</style>\n",
       "<table border=\"1\" class=\"dataframe\">\n",
       "  <thead>\n",
       "    <tr style=\"text-align: right;\">\n",
       "      <th></th>\n",
       "      <th>PassengerId</th>\n",
       "      <th>Survived</th>\n",
       "      <th>Pclass</th>\n",
       "      <th>Name</th>\n",
       "      <th>Sex</th>\n",
       "      <th>Age</th>\n",
       "      <th>SibSp</th>\n",
       "      <th>Parch</th>\n",
       "      <th>Ticket</th>\n",
       "      <th>Fare</th>\n",
       "      <th>Cabin</th>\n",
       "      <th>Embarked</th>\n",
       "    </tr>\n",
       "  </thead>\n",
       "  <tbody>\n",
       "    <tr>\n",
       "      <th>0</th>\n",
       "      <td>1</td>\n",
       "      <td>0</td>\n",
       "      <td>3</td>\n",
       "      <td>Braund, Mr. Owen Harris</td>\n",
       "      <td>male</td>\n",
       "      <td>22.0</td>\n",
       "      <td>1</td>\n",
       "      <td>0</td>\n",
       "      <td>A/5 21171</td>\n",
       "      <td>7.2500</td>\n",
       "      <td>NaN</td>\n",
       "      <td>S</td>\n",
       "    </tr>\n",
       "    <tr>\n",
       "      <th>1</th>\n",
       "      <td>2</td>\n",
       "      <td>1</td>\n",
       "      <td>1</td>\n",
       "      <td>Cumings, Mrs. John Bradley (Florence Briggs Th...</td>\n",
       "      <td>female</td>\n",
       "      <td>38.0</td>\n",
       "      <td>1</td>\n",
       "      <td>0</td>\n",
       "      <td>PC 17599</td>\n",
       "      <td>71.2833</td>\n",
       "      <td>C85</td>\n",
       "      <td>C</td>\n",
       "    </tr>\n",
       "    <tr>\n",
       "      <th>2</th>\n",
       "      <td>3</td>\n",
       "      <td>1</td>\n",
       "      <td>3</td>\n",
       "      <td>Heikkinen, Miss. Laina</td>\n",
       "      <td>female</td>\n",
       "      <td>26.0</td>\n",
       "      <td>0</td>\n",
       "      <td>0</td>\n",
       "      <td>STON/O2. 3101282</td>\n",
       "      <td>7.9250</td>\n",
       "      <td>NaN</td>\n",
       "      <td>S</td>\n",
       "    </tr>\n",
       "    <tr>\n",
       "      <th>3</th>\n",
       "      <td>4</td>\n",
       "      <td>1</td>\n",
       "      <td>1</td>\n",
       "      <td>Futrelle, Mrs. Jacques Heath (Lily May Peel)</td>\n",
       "      <td>female</td>\n",
       "      <td>35.0</td>\n",
       "      <td>1</td>\n",
       "      <td>0</td>\n",
       "      <td>113803</td>\n",
       "      <td>53.1000</td>\n",
       "      <td>C123</td>\n",
       "      <td>S</td>\n",
       "    </tr>\n",
       "    <tr>\n",
       "      <th>4</th>\n",
       "      <td>5</td>\n",
       "      <td>0</td>\n",
       "      <td>3</td>\n",
       "      <td>Allen, Mr. William Henry</td>\n",
       "      <td>male</td>\n",
       "      <td>35.0</td>\n",
       "      <td>0</td>\n",
       "      <td>0</td>\n",
       "      <td>373450</td>\n",
       "      <td>8.0500</td>\n",
       "      <td>NaN</td>\n",
       "      <td>S</td>\n",
       "    </tr>\n",
       "  </tbody>\n",
       "</table>\n",
       "</div>"
      ],
      "text/plain": [
       "   PassengerId  Survived  Pclass  \\\n",
       "0            1         0       3   \n",
       "1            2         1       1   \n",
       "2            3         1       3   \n",
       "3            4         1       1   \n",
       "4            5         0       3   \n",
       "\n",
       "                                                Name     Sex   Age  SibSp  \\\n",
       "0                            Braund, Mr. Owen Harris    male  22.0      1   \n",
       "1  Cumings, Mrs. John Bradley (Florence Briggs Th...  female  38.0      1   \n",
       "2                             Heikkinen, Miss. Laina  female  26.0      0   \n",
       "3       Futrelle, Mrs. Jacques Heath (Lily May Peel)  female  35.0      1   \n",
       "4                           Allen, Mr. William Henry    male  35.0      0   \n",
       "\n",
       "   Parch            Ticket     Fare Cabin Embarked  \n",
       "0      0         A/5 21171   7.2500   NaN        S  \n",
       "1      0          PC 17599  71.2833   C85        C  \n",
       "2      0  STON/O2. 3101282   7.9250   NaN        S  \n",
       "3      0            113803  53.1000  C123        S  \n",
       "4      0            373450   8.0500   NaN        S  "
      ]
     },
     "execution_count": 3,
     "metadata": {},
     "output_type": "execute_result"
    }
   ],
   "source": [
    "train_data = pd.read_csv(\"train.csv\")\n",
    "train_data.head()"
   ]
  },
  {
   "cell_type": "code",
   "execution_count": 4,
   "id": "476c39c2-cdd3-4a1e-9d18-6a222e12febe",
   "metadata": {},
   "outputs": [
    {
     "name": "stdout",
     "output_type": "stream",
     "text": [
      "Index(['PassengerId', 'Survived', 'Pclass', 'Name', 'Sex', 'Age', 'SibSp',\n",
      "       'Parch', 'Ticket', 'Fare', 'Cabin', 'Embarked'],\n",
      "      dtype='object')\n"
     ]
    }
   ],
   "source": [
    "# look at the columns\n",
    "print(train_data.columns)"
   ]
  },
  {
   "cell_type": "markdown",
   "id": "30875dac-8b74-448f-a145-80d9e24f33de",
   "metadata": {},
   "source": [
    "- PassengerId is used to identify the passenger\n",
    "- survived is the result y\n",
    "- Pclass is the passenger class\n",
    "- Sex, Age, Sibsp(sibling/spouse), Parch(Parent/chidren), Tikect, Fare, Cabin, Embarked are all features for analysis\n",
    "- Embarked locations are C = Cherbourg, Q = Queenstown, S = Southampton"
   ]
  },
  {
   "cell_type": "code",
   "execution_count": 5,
   "id": "a427aad9-7f1e-43f2-9eeb-65d374895696",
   "metadata": {},
   "outputs": [],
   "source": [
    "total_passenger = train_data.shape[0]\n",
    "y = train_data['Survived']\n",
    "x_Pclass = train_data['Pclass']\n",
    "x_Sex = train_data['Sex']\n",
    "x_Age = train_data['Age']\n",
    "x_SibSp = train_data['SibSp']\n",
    "x_Parch = train_data['Parch']\n",
    "x_Fare = train_data['Fare']\n",
    "x_Cabin = train_data['Cabin']\n",
    "x_Embarked = train_data['Embarked']\n",
    "x_Ticket = train_data['Ticket']"
   ]
  },
  {
   "cell_type": "markdown",
   "id": "8003e0e6-da0b-4d63-a21f-2012f0a04de3",
   "metadata": {},
   "source": [
    "### define basic functions"
   ]
  },
  {
   "cell_type": "code",
   "execution_count": 6,
   "id": "e8c49ddd-03c2-4ccb-a3a6-c1741b92c8bf",
   "metadata": {},
   "outputs": [],
   "source": [
    "op = {\n",
    "    '>':operator.gt,\n",
    "    '>=':operator.ge,\n",
    "    '<':operator.lt,\n",
    "    '<=':operator.le,\n",
    "    '==':operator.eq,\n",
    "    '!=':operator.ne\n",
    "}\n",
    "\n",
    "op_rev = {\n",
    "    operator.gt: '>',\n",
    "    operator.ge:'>=',\n",
    "    operator.lt:'<',\n",
    "    operator.le:'<=',\n",
    "    operator.eq:'==',\n",
    "    operator.ne:'!='\n",
    "}\n",
    "\n",
    "    \n",
    "class featureCondition:\n",
    "    def __init__(self, feature, left_op, left_value, right_op, right_value ):\n",
    "        self.feature = feature\n",
    "        self.left_op = op[left_op]\n",
    "        self.left_value = left_value\n",
    "        self.right_op = op[right_op]\n",
    "        self.right_value = right_value\n"
   ]
  },
  {
   "cell_type": "code",
   "execution_count": 7,
   "id": "2553c9b6-830c-42d8-ad6c-cbbd3c8f6c95",
   "metadata": {},
   "outputs": [
    {
     "data": {
      "text/plain": [
       "1      female\n",
       "2      female\n",
       "3      female\n",
       "8      female\n",
       "9      female\n",
       "        ...  \n",
       "880    female\n",
       "882    female\n",
       "885    female\n",
       "887    female\n",
       "888    female\n",
       "Name: Sex, Length: 314, dtype: object"
      ]
     },
     "execution_count": 7,
     "metadata": {},
     "output_type": "execute_result"
    }
   ],
   "source": [
    "x_Sex.loc[op['=='](x_Sex, 'female')]"
   ]
  },
  {
   "cell_type": "code",
   "execution_count": 8,
   "id": "e29df756-a017-4f38-9f66-71793c38ff40",
   "metadata": {},
   "outputs": [],
   "source": [
    "def cal_survival_rate(x_input:pd.Series):\n",
    "    return sum(y[x_input.index])/len(y[x_input.index])"
   ]
  },
  {
   "cell_type": "code",
   "execution_count": 9,
   "id": "deb6a6a5-af3f-4b9e-b6d0-ff38244e5ba3",
   "metadata": {},
   "outputs": [],
   "source": [
    "def cal_number(x_input:pd.Series):\n",
    "    return len(x_input)"
   ]
  },
  {
   "cell_type": "code",
   "execution_count": 10,
   "id": "637fa505-3af0-4901-a2d8-8cb96bef3308",
   "metadata": {},
   "outputs": [],
   "source": [
    "# we are getting only 2 classifications\n",
    "def cross_entropy_loss(rate):\n",
    "    if rate != 1 and rate != 0:\n",
    "        return -rate * np.log2(rate) - (1 - rate) * np.log2(1-rate)\n",
    "    else:\n",
    "        raise ValueError('rate is 0 or 1')"
   ]
  },
  {
   "cell_type": "code",
   "execution_count": 11,
   "id": "9403174b-31d3-40cb-9d6c-664a8a1f3467",
   "metadata": {},
   "outputs": [],
   "source": [
    "def information_gain(loss_parent, loss_left, no_left, loss_right, no_right):\n",
    "    return loss_parent - (loss_left * no_left + loss_right * no_right) / (no_left + no_right)"
   ]
  },
  {
   "cell_type": "code",
   "execution_count": 12,
   "id": "296313a0-026b-4b79-9170-9c7725981850",
   "metadata": {},
   "outputs": [],
   "source": [
    "# def sampling_with_replacement():"
   ]
  },
  {
   "cell_type": "code",
   "execution_count": 13,
   "id": "3c3f2c7d-8edb-4327-93ae-274aa4d2e232",
   "metadata": {
    "tags": []
   },
   "outputs": [],
   "source": [
    "def plot_bar(x_input_list, feature_names):\n",
    "    sur_list = []\n",
    "    dea_list = []\n",
    "    for x_input in x_input_list:\n",
    "        survived = sum(y[x_input.index])\n",
    "        death = len(y[x_input.index]) - survived\n",
    "        sur_list.append(survived)\n",
    "        dea_list.append(death)\n",
    "    plt.bar(range(len(dea_list)), dea_list, label='death', fc='r')\n",
    "    plt.bar(range(len(sur_list)), sur_list, bottom=dea_list, label='survived', tick_label=feature_names, fc='b')\n",
    "    plt.legend()\n",
    "    plt.show()"
   ]
  },
  {
   "cell_type": "code",
   "execution_count": 14,
   "id": "fc0d2ad4-e775-4e35-9b57-9cd9bd7e1ff7",
   "metadata": {
    "tags": []
   },
   "outputs": [],
   "source": [
    "def get_information_gain_from_split(x_parent, x_left, x_right):\n",
    "    loss_parent = cross_entropy_loss(cal_survival_rate(x_parent))\n",
    "    loss_left = cross_entropy_loss(cal_survival_rate(x_left))\n",
    "    loss_right = cross_entropy_loss(cal_survival_rate(x_right))\n",
    "    no_left = cal_number(x_left)\n",
    "    no_right = cal_number(x_right)\n",
    "    return information_gain(loss_parent, loss_left, no_left, loss_right, no_right)\n",
    "    "
   ]
  },
  {
   "cell_type": "code",
   "execution_count": 15,
   "id": "3cf1386a-39c7-4a76-8a38-c1e942567648",
   "metadata": {},
   "outputs": [],
   "source": [
    "def find_best_ig(split):\n",
    "    max_ig = 0\n",
    "    max_k = ''\n",
    "    for k, s in split.items():\n",
    "        try:\n",
    "            ig = get_information_gain_from_split(s[0], s[1], s[2])\n",
    "            print(f\"the information gain from spliting {k} is: {ig}\")\n",
    "            if ig > max_ig:\n",
    "                max_ig = ig\n",
    "                max_k = k\n",
    "        except ValueError:\n",
    "            print(f'feature {k} split resulted in 0/100% rate')\n",
    "    print(f'max information gain is {max_ig} for spliting on {max_k}')\n",
    "    return max_k, split[max_k]\n",
    "\n",
    "def split_tree(data, split_data):\n",
    "    print(f'survival rate on left is {cal_survival_rate(split_data[1])}')\n",
    "    print(f'survival rate on right is {cal_survival_rate(split_data[2])}')\n",
    "    cal_survival_rate(split_data[2])\n",
    "    left = data.loc[split_data[1].index]\n",
    "    right = data.loc[split_data[2].index]\n",
    "    return left,right\n",
    "\n",
    "def build_split(data, feature_conditions):\n",
    "    split = {}\n",
    "    for item in feature_conditions:\n",
    "        series = data[item.feature]\n",
    "        split[item.feature] = (series, series.loc[item.left_op(series, item.left_value)], series.loc[item.right_op(series, item.right_value)])\n",
    "    return split\n",
    "        \n",
    "def tree_iteraion(data, feature_conditions):\n",
    "    split = build_split(data, feature_conditions)\n",
    "    split_feature, best_split = find_best_ig(split)\n",
    "    left,right = split_tree(data, best_split)\n",
    "    for i in feature_conditions:\n",
    "        if split_feature == i.feature:\n",
    "            print(f'splited on {split_feature}, left split is {op_rev[i.left_op]} {i.left_value}, right_split is {op_rev[i.right_op]} {i.right_value}')\n",
    "    \n",
    "    return left,right\n",
    "\n",
    "    \n",
    "    "
   ]
  },
  {
   "cell_type": "markdown",
   "id": "1c3733d5-79cb-4e2a-9391-d5bcfa84fd63",
   "metadata": {},
   "source": [
    "## 2. Analyse data and find information gain"
   ]
  },
  {
   "cell_type": "markdown",
   "id": "98444d66-1cfd-46b9-a28a-a53e41a92446",
   "metadata": {},
   "source": [
    "Lets plot some of the data and find what feature will determine survival"
   ]
  },
  {
   "cell_type": "code",
   "execution_count": 16,
   "id": "1507b23b-fb02-4b32-8ca0-a4bf68e43b7e",
   "metadata": {},
   "outputs": [
    {
     "name": "stdout",
     "output_type": "stream",
     "text": [
      "parent_rate is 0.3838383838383838\n"
     ]
    }
   ],
   "source": [
    "parent_rate = cal_survival_rate(x_Pclass)\n",
    "print(f\"parent_rate is {parent_rate}\")"
   ]
  },
  {
   "cell_type": "markdown",
   "id": "c6a59884-5184-4486-96d0-9819d5d8bb55",
   "metadata": {},
   "source": [
    "### 1. let's look at male and female"
   ]
  },
  {
   "cell_type": "code",
   "execution_count": 17,
   "id": "4a21086c-2f08-48f8-bca9-ba789f2b6e01",
   "metadata": {},
   "outputs": [
    {
     "data": {
      "image/png": "[encoded data removed]",
      "text/plain": [
       "<Figure size 640x480 with 1 Axes>"
      ]
     },
     "metadata": {},
     "output_type": "display_data"
    }
   ],
   "source": [
    "plot_bar([x_Sex.loc[x_Sex==\"male\"], x_Sex.loc[x_Sex==\"female\"]], [\"male\", \"female\"])"
   ]
  },
  {
   "cell_type": "markdown",
   "id": "0e922443-5605-4c7d-8f29-50281d71b8f5",
   "metadata": {},
   "source": [
    "Female is more likely to survive than male, now let's calculate the survival rate for male and female, and then calculate the information gain"
   ]
  },
  {
   "cell_type": "code",
   "execution_count": 18,
   "id": "64412436-2e62-4919-946b-0f6293585fea",
   "metadata": {},
   "outputs": [
    {
     "name": "stdout",
     "output_type": "stream",
     "text": [
      "the survival rate for female is: 0.7420382165605095, the survival rate for male is: 0.18890814558058924\n"
     ]
    }
   ],
   "source": [
    "female_rate = cal_survival_rate(x_Sex.loc[x_Sex==\"female\"])\n",
    "male_rate = cal_survival_rate(x_Sex.loc[x_Sex==\"male\"])\n",
    "\n",
    "print(f\"the survival rate for female is: {female_rate}, the survival rate for male is: {male_rate}\")"
   ]
  },
  {
   "cell_type": "code",
   "execution_count": 19,
   "id": "f7022940-7896-4fc4-a7c3-66f6f4b4b6fa",
   "metadata": {},
   "outputs": [
    {
     "name": "stdout",
     "output_type": "stream",
     "text": [
      "the information gain from spliting male and female is: 0.2176601066606143\n"
     ]
    }
   ],
   "source": [
    "loss_parent = cross_entropy_loss(parent_rate)\n",
    "loss_female = cross_entropy_loss(female_rate)\n",
    "loss_male = cross_entropy_loss(male_rate)\n",
    "\n",
    "len_male = len(x_Sex.loc[x_Sex==\"male\"])\n",
    "len_female = len(x_Sex.loc[x_Sex==\"female\"])\n",
    "\n",
    "information_male_female = information_gain(loss_parent, loss_female, len_female, loss_male, len_male)\n",
    "print(f\"the information gain from spliting male and female is: {information_male_female}\")"
   ]
  },
  {
   "cell_type": "markdown",
   "id": "8aebf832-7464-4d49-bb7f-cc19fe5b10e5",
   "metadata": {},
   "source": [
    "### 2. Look at Pclass"
   ]
  },
  {
   "cell_type": "code",
   "execution_count": 20,
   "id": "c04b32c9-62d3-422f-b0ce-57c610dccd34",
   "metadata": {},
   "outputs": [
    {
     "data": {
      "image/png": "[encoded data removed]",
      "text/plain": [
       "<Figure size 640x480 with 1 Axes>"
      ]
     },
     "metadata": {},
     "output_type": "display_data"
    }
   ],
   "source": [
    "plot_bar([x_Pclass.loc[x_Pclass == 1], x_Pclass.loc[x_Pclass >1]], [\"class=1\",\"class> 1\"])"
   ]
  },
  {
   "cell_type": "code",
   "execution_count": 21,
   "id": "ac1cd48a-c8ff-4a2d-a9c9-a08ba87c6684",
   "metadata": {},
   "outputs": [
    {
     "name": "stdout",
     "output_type": "stream",
     "text": [
      "the information gain from spliting Pclass is: 0.07579362743608165\n"
     ]
    }
   ],
   "source": [
    "information_gain_pclass = get_information_gain_from_split(x_Pclass, x_Pclass.loc[x_Pclass == 3], x_Pclass.loc[x_Pclass !=3])\n",
    "print(f\"the information gain from spliting Pclass is: {information_gain_pclass}\")"
   ]
  },
  {
   "cell_type": "markdown",
   "id": "a33ceeb6-3b7c-4bed-be22-193368f76ba9",
   "metadata": {},
   "source": [
    "### 3. look at Sibsp"
   ]
  },
  {
   "cell_type": "code",
   "execution_count": 22,
   "id": "e015b6ae-c719-4187-a2c4-cd210f29d0d2",
   "metadata": {},
   "outputs": [
    {
     "data": {
      "image/png": "[encoded data removed]",
      "text/plain": [
       "<Figure size 640x480 with 1 Axes>"
      ]
     },
     "metadata": {},
     "output_type": "display_data"
    }
   ],
   "source": [
    "plot_bar([x_SibSp.loc[x_SibSp == 0], x_SibSp.loc[x_SibSp >0]], [\"Sibsp = 0\",\"Sibsp > 0\"])"
   ]
  },
  {
   "cell_type": "code",
   "execution_count": 23,
   "id": "b0651aa6-76f1-4a63-a643-e45b8e3b9adf",
   "metadata": {},
   "outputs": [
    {
     "name": "stdout",
     "output_type": "stream",
     "text": [
      "the information gain from spliting sibsp is: 0.010126533258115078\n"
     ]
    }
   ],
   "source": [
    "information_gain_sibsp = get_information_gain_from_split(x_SibSp, x_SibSp.loc[x_SibSp <3], x_SibSp.loc[x_SibSp >=3])\n",
    "print(f\"the information gain from spliting sibsp is: {information_gain_sibsp}\")"
   ]
  },
  {
   "cell_type": "markdown",
   "id": "12f81aa8-ebe1-4a6f-b5fd-7faa961c676f",
   "metadata": {},
   "source": [
    "## 3. Split on gender for the 1st layer since it has the largest information gain"
   ]
  },
  {
   "cell_type": "code",
   "execution_count": 24,
   "id": "db7a9144-9a6e-4f53-b7fe-f6261ee3197a",
   "metadata": {},
   "outputs": [],
   "source": [
    "feature_conditions = [\n",
    "    featureCondition('Sex', '==', 'female', '==', 'male'),\n",
    "    featureCondition('Pclass', '==', 1, '!=', 1),\n",
    "    featureCondition('SibSp', '==', 0, '>', 0),\n",
    "    featureCondition('Parch', '==', 0, '>', 0),\n",
    "    featureCondition('Fare', '<=', 20, '>', 20)\n",
    "]"
   ]
  },
  {
   "cell_type": "code",
   "execution_count": 25,
   "id": "9c99e5f9-9700-45fa-ad69-234d4439c013",
   "metadata": {},
   "outputs": [
    {
     "name": "stdout",
     "output_type": "stream",
     "text": [
      "the information gain from spliting Sex is: 0.2176601066606143\n",
      "the information gain from spliting Pclass is: 0.05779645276779055\n",
      "the information gain from spliting SibSp is: 0.009584541813400183\n",
      "the information gain from spliting Parch is: 0.015380754493137583\n",
      "the information gain from spliting Fare is: 0.04714674828107157\n",
      "max information gain is 0.2176601066606143 for spliting on Sex\n",
      "survival rate on left is 0.7420382165605095\n",
      "survival rate on right is 0.18890814558058924\n",
      "splited on Sex, left split is == female, right_split is == male\n"
     ]
    }
   ],
   "source": [
    "female_data, male_data = tree_iteraion(train_data, feature_conditions)"
   ]
  },
  {
   "cell_type": "markdown",
   "id": "5c1d1094-c9cf-4067-b943-66e0f0831172",
   "metadata": {},
   "source": [
    "### For female branch"
   ]
  },
  {
   "cell_type": "code",
   "execution_count": 26,
   "id": "9725eb18-458d-449d-a0c3-60a716dafc90",
   "metadata": {},
   "outputs": [],
   "source": [
    "feature_conditions = [\n",
    "    featureCondition('Pclass', '==', 3, '!=', 3),\n",
    "    featureCondition('SibSp', '==', 0, '>', 0),\n",
    "    featureCondition('Parch', '==', 0, '>', 0),\n",
    "    featureCondition('Fare', '<=', 20, '>', 20),\n",
    "    featureCondition('Age', '<=', 20, '>', 20)\n",
    "]"
   ]
  },
  {
   "cell_type": "code",
   "execution_count": 27,
   "id": "cb8f494e-0a57-4287-a60d-251b0be5f196",
   "metadata": {},
   "outputs": [
    {
     "name": "stdout",
     "output_type": "stream",
     "text": [
      "the information gain from spliting Pclass is: 0.20330629445826065\n",
      "the information gain from spliting SibSp is: 0.009577910022389613\n",
      "the information gain from spliting Parch is: 0.013022528230396957\n",
      "the information gain from spliting Fare is: 0.01655456972494007\n",
      "the information gain from spliting Age is: 0.02705447839061892\n",
      "max information gain is 0.20330629445826065 for spliting on Pclass\n",
      "survival rate on left is 0.5\n",
      "survival rate on right is 0.9470588235294117\n",
      "splited on Pclass, left split is == 3, right_split is != 3\n"
     ]
    }
   ],
   "source": [
    "pclass3, pclass_not3 = tree_iteraion(female_data, feature_conditions)"
   ]
  },
  {
   "cell_type": "markdown",
   "id": "57fd7552-b782-46a5-b38e-f8565e4a81ec",
   "metadata": {},
   "source": [
    "### Based on the survival rate, the right branch is high enough, continue on left branch"
   ]
  },
  {
   "cell_type": "code",
   "execution_count": 28,
   "id": "fa428600-e150-47d2-b0b5-ba828fd0e4d7",
   "metadata": {},
   "outputs": [],
   "source": [
    "feature_conditions = [\n",
    "    featureCondition('SibSp', '<=', 2, '>', 2),\n",
    "    featureCondition('Parch', '<=',2 , '>', 2),\n",
    "    featureCondition('Fare', '<=', 21, '>', 21),\n",
    "    featureCondition('Age', '<=', 40, '>', 40)\n",
    "]"
   ]
  },
  {
   "cell_type": "code",
   "execution_count": 29,
   "id": "b3d28080-7e9f-4694-8892-542c04a90fe8",
   "metadata": {},
   "outputs": [
    {
     "name": "stdout",
     "output_type": "stream",
     "text": [
      "the information gain from spliting SibSp is: 0.049480863711278356\n",
      "the information gain from spliting Parch is: 0.0156650893927599\n",
      "the information gain from spliting Fare is: 0.08123221600192865\n",
      "the information gain from spliting Age is: 0.043906191778860904\n",
      "max information gain is 0.08123221600192865 for spliting on Fare\n",
      "survival rate on left is 0.5909090909090909\n",
      "survival rate on right is 0.20588235294117646\n",
      "splited on Fare, left split is <= 21, right_split is > 21\n"
     ]
    }
   ],
   "source": [
    "left,right = tree_iteraion(pclass3, feature_conditions)"
   ]
  },
  {
   "cell_type": "code",
   "execution_count": 30,
   "id": "d3233bc7-d6a5-4f37-b7e6-0ae3bb7cfee6",
   "metadata": {},
   "outputs": [],
   "source": [
    "feature_conditions = [\n",
    "    featureCondition('SibSp', '<=', 1, '>', 1),\n",
    "    featureCondition('Parch', '<=',1 , '>', 1),\n",
    "    featureCondition('Age', '<=', 16, '>', 16),\n",
    "]"
   ]
  },
  {
   "cell_type": "code",
   "execution_count": 31,
   "id": "efa491c5-a6ea-4c35-b2f9-f4c954d882db",
   "metadata": {},
   "outputs": [
    {
     "name": "stdout",
     "output_type": "stream",
     "text": [
      "the information gain from spliting SibSp is: 0.011316664054692116\n",
      "the information gain from spliting Parch is: 0.001559279187841267\n",
      "the information gain from spliting Age is: 0.04781206126838922\n",
      "max information gain is 0.04781206126838922 for spliting on Age\n",
      "survival rate on left is 0.8\n",
      "survival rate on right is 0.4745762711864407\n",
      "splited on Age, left split is <= 16, right_split is > 16\n"
     ]
    }
   ],
   "source": [
    "left_left, left_right = tree_iteraion(left, feature_conditions)"
   ]
  },
  {
   "cell_type": "code",
   "execution_count": 32,
   "id": "b817784a-5c1b-44c4-9e38-eef9083fb183",
   "metadata": {},
   "outputs": [],
   "source": [
    "feature_conditions = [\n",
    "    featureCondition('SibSp', '<=', 1, '>', 1),\n",
    "    featureCondition('Parch', '<=',0 , '>', 0),]"
   ]
  },
  {
   "cell_type": "code",
   "execution_count": 33,
   "id": "0fc8a637-4c2d-432e-9b53-aeb775e0a383",
   "metadata": {},
   "outputs": [
    {
     "name": "stdout",
     "output_type": "stream",
     "text": [
      "the information gain from spliting SibSp is: 0.057120518373675266\n",
      "feature Parch split resulted in 0/100% rate\n",
      "max information gain is 0.057120518373675266 for spliting on SibSp\n",
      "survival rate on left is 0.3333333333333333\n",
      "survival rate on right is 0.10526315789473684\n",
      "splited on SibSp, left split is <= 1, right_split is > 1\n"
     ]
    }
   ],
   "source": [
    "right_left, right_right = tree_iteraion(right, feature_conditions)"
   ]
  },
  {
   "cell_type": "markdown",
   "id": "724f07ce-efcb-4549-ab98-eaece41123c5",
   "metadata": {},
   "source": [
    "### continue with the left_left branch"
   ]
  },
  {
   "cell_type": "code",
   "execution_count": 34,
   "id": "fb5f6cfd-d1b5-42a0-8ef8-41c725f7b13f",
   "metadata": {},
   "outputs": [],
   "source": [
    "feature_conditions = [\n",
    "    featureCondition('Parch', '<=',1 , '>', 1),\n",
    "    featureCondition('SibSp', '<=', 0, '>', 0),\n",
    "    # featureCondition('Age', '<=',16, '>', 16),\n",
    "    featureCondition('Embarked', '==', 'S', '!=', 'S')\n",
    "]"
   ]
  },
  {
   "cell_type": "code",
   "execution_count": 35,
   "id": "6eb971e2-60f9-4c63-846f-4559af38a506",
   "metadata": {},
   "outputs": [
    {
     "name": "stdout",
     "output_type": "stream",
     "text": [
      "the information gain from spliting Parch is: 0.04506170692491118\n",
      "the information gain from spliting SibSp is: 0.015635474892528256\n",
      "the information gain from spliting Embarked is: 0.008265307154839752\n",
      "max information gain is 0.04506170692491118 for spliting on Parch\n",
      "survival rate on left is 0.4339622641509434\n",
      "survival rate on right is 0.8333333333333334\n",
      "splited on Parch, left split is <= 1, right_split is > 1\n"
     ]
    }
   ],
   "source": [
    "age_less_16, age_great_16 = tree_iteraion(left_right, feature_conditions)"
   ]
  },
  {
   "cell_type": "code",
   "execution_count": null,
   "id": "816b32bb-0797-4cfd-b906-4841199a4f0b",
   "metadata": {},
   "outputs": [],
   "source": []
  },
  {
   "cell_type": "code",
   "execution_count": 36,
   "id": "c67d80ff-5cab-4de6-8568-747152d0363e",
   "metadata": {},
   "outputs": [],
   "source": [
    "feature_conditions = [\n",
    "    # featureCondition('Parch', '<=',1 , '>', 1),\n",
    "    featureCondition('SibSp', '<=', 0, '>', 0),\n",
    "    featureCondition('Embarked', '==', 'S', '!=', 'S')\n",
    "]"
   ]
  },
  {
   "cell_type": "code",
   "execution_count": 37,
   "id": "ebc9bd70-7fb5-47ff-8430-b81e0646146a",
   "metadata": {},
   "outputs": [
    {
     "name": "stdout",
     "output_type": "stream",
     "text": [
      "the information gain from spliting SibSp is: 0.015517527461235137\n",
      "the information gain from spliting Embarked is: 0.028658496666590705\n",
      "max information gain is 0.028658496666590705 for spliting on Embarked\n",
      "survival rate on left is 0.4772727272727273\n",
      "survival rate on right is 0.2222222222222222\n",
      "splited on Embarked, left split is == S, right_split is != S\n"
     ]
    }
   ],
   "source": [
    "parch_less_1,parch_great_1 = tree_iteraion(age_less_16, feature_conditions)"
   ]
  },
  {
   "cell_type": "code",
   "execution_count": 38,
   "id": "a3380af0-b009-47cf-a5ef-909c72173b77",
   "metadata": {},
   "outputs": [],
   "source": [
    "feature_conditions = [\n",
    "    # featureCondition('Embarked', '==', 'S', '!=', 'S'),\n",
    "    featureCondition('SibSp', '<=', 0, '>', 0),\n",
    "    featureCondition('Fare', '<=', 8, '>', 8),\n",
    "    featureCondition('Age', '<=',30, '>', 30),\n",
    "]"
   ]
  },
  {
   "cell_type": "code",
   "execution_count": 39,
   "id": "bb7c46f2-0f75-4095-9978-e1aca7533e47",
   "metadata": {},
   "outputs": [
    {
     "name": "stdout",
     "output_type": "stream",
     "text": [
      "the information gain from spliting SibSp is: 0.028454573746028444\n",
      "the information gain from spliting Fare is: 0.02250187956803451\n",
      "the information gain from spliting Age is: 0.0005597179036218591\n",
      "max information gain is 0.028454573746028444 for spliting on SibSp\n",
      "survival rate on left is 0.5555555555555556\n",
      "survival rate on right is 0.35294117647058826\n",
      "splited on SibSp, left split is <= 0, right_split is > 0\n"
     ]
    }
   ],
   "source": [
    "left,right = tree_iteraion(parch_less_1, feature_conditions)"
   ]
  },
  {
   "cell_type": "code",
   "execution_count": 40,
   "id": "e12fae25-b519-4617-8952-32ab391787dc",
   "metadata": {},
   "outputs": [],
   "source": [
    "feature_conditions = [\n",
    "    # featureCondition('SibSp', '<=', 0, '>', 0),\n",
    "    featureCondition('Fare', '<=', 8, '>', 8),\n",
    "    featureCondition('Age', '<=',30, '>', 30),\n",
    "]"
   ]
  },
  {
   "cell_type": "code",
   "execution_count": 41,
   "id": "0909c6c1-7f0c-4b39-a751-511ba0d8c0c0",
   "metadata": {},
   "outputs": [
    {
     "name": "stdout",
     "output_type": "stream",
     "text": [
      "the information gain from spliting Fare is: 0.007214618474517431\n",
      "the information gain from spliting Age is: 0.0159943104501159\n",
      "max information gain is 0.0159943104501159 for spliting on Age\n",
      "survival rate on left is 0.5909090909090909\n",
      "survival rate on right is 0.4\n",
      "splited on Age, left split is <= 30, right_split is > 30\n"
     ]
    }
   ],
   "source": [
    "left_left,left_right = tree_iteraion(left, feature_conditions)"
   ]
  },
  {
   "cell_type": "code",
   "execution_count": 42,
   "id": "51ac552a-224a-4d8f-8218-60357f8a9ffc",
   "metadata": {},
   "outputs": [
    {
     "data": {
      "text/html": [
       "<div>\n",
       "<style scoped>\n",
       "    .dataframe tbody tr th:only-of-type {\n",
       "        vertical-align: middle;\n",
       "    }\n",
       "\n",
       "    .dataframe tbody tr th {\n",
       "        vertical-align: top;\n",
       "    }\n",
       "\n",
       "    .dataframe thead th {\n",
       "        text-align: right;\n",
       "    }\n",
       "</style>\n",
       "<table border=\"1\" class=\"dataframe\">\n",
       "  <thead>\n",
       "    <tr style=\"text-align: right;\">\n",
       "      <th></th>\n",
       "      <th>PassengerId</th>\n",
       "      <th>Survived</th>\n",
       "      <th>Pclass</th>\n",
       "      <th>Name</th>\n",
       "      <th>Sex</th>\n",
       "      <th>Age</th>\n",
       "      <th>SibSp</th>\n",
       "      <th>Parch</th>\n",
       "      <th>Ticket</th>\n",
       "      <th>Fare</th>\n",
       "      <th>Cabin</th>\n",
       "      <th>Embarked</th>\n",
       "    </tr>\n",
       "  </thead>\n",
       "  <tbody>\n",
       "    <tr>\n",
       "      <th>2</th>\n",
       "      <td>3</td>\n",
       "      <td>1</td>\n",
       "      <td>3</td>\n",
       "      <td>Heikkinen, Miss. Laina</td>\n",
       "      <td>female</td>\n",
       "      <td>26.0</td>\n",
       "      <td>0</td>\n",
       "      <td>0</td>\n",
       "      <td>STON/O2. 3101282</td>\n",
       "      <td>7.9250</td>\n",
       "      <td>NaN</td>\n",
       "      <td>S</td>\n",
       "    </tr>\n",
       "    <tr>\n",
       "      <th>79</th>\n",
       "      <td>80</td>\n",
       "      <td>1</td>\n",
       "      <td>3</td>\n",
       "      <td>Dowdell, Miss. Elizabeth</td>\n",
       "      <td>female</td>\n",
       "      <td>30.0</td>\n",
       "      <td>0</td>\n",
       "      <td>0</td>\n",
       "      <td>364516</td>\n",
       "      <td>12.4750</td>\n",
       "      <td>NaN</td>\n",
       "      <td>S</td>\n",
       "    </tr>\n",
       "    <tr>\n",
       "      <th>100</th>\n",
       "      <td>101</td>\n",
       "      <td>0</td>\n",
       "      <td>3</td>\n",
       "      <td>Petranec, Miss. Matilda</td>\n",
       "      <td>female</td>\n",
       "      <td>28.0</td>\n",
       "      <td>0</td>\n",
       "      <td>0</td>\n",
       "      <td>349245</td>\n",
       "      <td>7.8958</td>\n",
       "      <td>NaN</td>\n",
       "      <td>S</td>\n",
       "    </tr>\n",
       "    <tr>\n",
       "      <th>106</th>\n",
       "      <td>107</td>\n",
       "      <td>1</td>\n",
       "      <td>3</td>\n",
       "      <td>Salkjelsvik, Miss. Anna Kristine</td>\n",
       "      <td>female</td>\n",
       "      <td>21.0</td>\n",
       "      <td>0</td>\n",
       "      <td>0</td>\n",
       "      <td>343120</td>\n",
       "      <td>7.6500</td>\n",
       "      <td>NaN</td>\n",
       "      <td>S</td>\n",
       "    </tr>\n",
       "    <tr>\n",
       "      <th>141</th>\n",
       "      <td>142</td>\n",
       "      <td>1</td>\n",
       "      <td>3</td>\n",
       "      <td>Nysten, Miss. Anna Sofia</td>\n",
       "      <td>female</td>\n",
       "      <td>22.0</td>\n",
       "      <td>0</td>\n",
       "      <td>0</td>\n",
       "      <td>347081</td>\n",
       "      <td>7.7500</td>\n",
       "      <td>NaN</td>\n",
       "      <td>S</td>\n",
       "    </tr>\n",
       "    <tr>\n",
       "      <th>216</th>\n",
       "      <td>217</td>\n",
       "      <td>1</td>\n",
       "      <td>3</td>\n",
       "      <td>Honkanen, Miss. Eliina</td>\n",
       "      <td>female</td>\n",
       "      <td>27.0</td>\n",
       "      <td>0</td>\n",
       "      <td>0</td>\n",
       "      <td>STON/O2. 3101283</td>\n",
       "      <td>7.9250</td>\n",
       "      <td>NaN</td>\n",
       "      <td>S</td>\n",
       "    </tr>\n",
       "    <tr>\n",
       "      <th>246</th>\n",
       "      <td>247</td>\n",
       "      <td>0</td>\n",
       "      <td>3</td>\n",
       "      <td>Lindahl, Miss. Agda Thorilda Viktoria</td>\n",
       "      <td>female</td>\n",
       "      <td>25.0</td>\n",
       "      <td>0</td>\n",
       "      <td>0</td>\n",
       "      <td>347071</td>\n",
       "      <td>7.7750</td>\n",
       "      <td>NaN</td>\n",
       "      <td>S</td>\n",
       "    </tr>\n",
       "    <tr>\n",
       "      <th>293</th>\n",
       "      <td>294</td>\n",
       "      <td>0</td>\n",
       "      <td>3</td>\n",
       "      <td>Haas, Miss. Aloisia</td>\n",
       "      <td>female</td>\n",
       "      <td>24.0</td>\n",
       "      <td>0</td>\n",
       "      <td>0</td>\n",
       "      <td>349236</td>\n",
       "      <td>8.8500</td>\n",
       "      <td>NaN</td>\n",
       "      <td>S</td>\n",
       "    </tr>\n",
       "    <tr>\n",
       "      <th>315</th>\n",
       "      <td>316</td>\n",
       "      <td>1</td>\n",
       "      <td>3</td>\n",
       "      <td>Nilsson, Miss. Helmina Josefina</td>\n",
       "      <td>female</td>\n",
       "      <td>26.0</td>\n",
       "      <td>0</td>\n",
       "      <td>0</td>\n",
       "      <td>347470</td>\n",
       "      <td>7.8542</td>\n",
       "      <td>NaN</td>\n",
       "      <td>S</td>\n",
       "    </tr>\n",
       "    <tr>\n",
       "      <th>376</th>\n",
       "      <td>377</td>\n",
       "      <td>1</td>\n",
       "      <td>3</td>\n",
       "      <td>Landergren, Miss. Aurora Adelia</td>\n",
       "      <td>female</td>\n",
       "      <td>22.0</td>\n",
       "      <td>0</td>\n",
       "      <td>0</td>\n",
       "      <td>C 7077</td>\n",
       "      <td>7.2500</td>\n",
       "      <td>NaN</td>\n",
       "      <td>S</td>\n",
       "    </tr>\n",
       "    <tr>\n",
       "      <th>404</th>\n",
       "      <td>405</td>\n",
       "      <td>0</td>\n",
       "      <td>3</td>\n",
       "      <td>Oreskovic, Miss. Marija</td>\n",
       "      <td>female</td>\n",
       "      <td>20.0</td>\n",
       "      <td>0</td>\n",
       "      <td>0</td>\n",
       "      <td>315096</td>\n",
       "      <td>8.6625</td>\n",
       "      <td>NaN</td>\n",
       "      <td>S</td>\n",
       "    </tr>\n",
       "    <tr>\n",
       "      <th>474</th>\n",
       "      <td>475</td>\n",
       "      <td>0</td>\n",
       "      <td>3</td>\n",
       "      <td>Strandberg, Miss. Ida Sofia</td>\n",
       "      <td>female</td>\n",
       "      <td>22.0</td>\n",
       "      <td>0</td>\n",
       "      <td>0</td>\n",
       "      <td>7553</td>\n",
       "      <td>9.8375</td>\n",
       "      <td>NaN</td>\n",
       "      <td>S</td>\n",
       "    </tr>\n",
       "    <tr>\n",
       "      <th>534</th>\n",
       "      <td>535</td>\n",
       "      <td>0</td>\n",
       "      <td>3</td>\n",
       "      <td>Cacic, Miss. Marija</td>\n",
       "      <td>female</td>\n",
       "      <td>30.0</td>\n",
       "      <td>0</td>\n",
       "      <td>0</td>\n",
       "      <td>315084</td>\n",
       "      <td>8.6625</td>\n",
       "      <td>NaN</td>\n",
       "      <td>S</td>\n",
       "    </tr>\n",
       "    <tr>\n",
       "      <th>554</th>\n",
       "      <td>555</td>\n",
       "      <td>1</td>\n",
       "      <td>3</td>\n",
       "      <td>Ohman, Miss. Velin</td>\n",
       "      <td>female</td>\n",
       "      <td>22.0</td>\n",
       "      <td>0</td>\n",
       "      <td>0</td>\n",
       "      <td>347085</td>\n",
       "      <td>7.7750</td>\n",
       "      <td>NaN</td>\n",
       "      <td>S</td>\n",
       "    </tr>\n",
       "    <tr>\n",
       "      <th>649</th>\n",
       "      <td>650</td>\n",
       "      <td>1</td>\n",
       "      <td>3</td>\n",
       "      <td>Stanley, Miss. Amy Zillah Elsie</td>\n",
       "      <td>female</td>\n",
       "      <td>23.0</td>\n",
       "      <td>0</td>\n",
       "      <td>0</td>\n",
       "      <td>CA. 2314</td>\n",
       "      <td>7.5500</td>\n",
       "      <td>NaN</td>\n",
       "      <td>S</td>\n",
       "    </tr>\n",
       "    <tr>\n",
       "      <th>677</th>\n",
       "      <td>678</td>\n",
       "      <td>1</td>\n",
       "      <td>3</td>\n",
       "      <td>Turja, Miss. Anna Sofia</td>\n",
       "      <td>female</td>\n",
       "      <td>18.0</td>\n",
       "      <td>0</td>\n",
       "      <td>0</td>\n",
       "      <td>4138</td>\n",
       "      <td>9.8417</td>\n",
       "      <td>NaN</td>\n",
       "      <td>S</td>\n",
       "    </tr>\n",
       "    <tr>\n",
       "      <th>786</th>\n",
       "      <td>787</td>\n",
       "      <td>1</td>\n",
       "      <td>3</td>\n",
       "      <td>Sjoblom, Miss. Anna Sofia</td>\n",
       "      <td>female</td>\n",
       "      <td>18.0</td>\n",
       "      <td>0</td>\n",
       "      <td>0</td>\n",
       "      <td>3101265</td>\n",
       "      <td>7.4958</td>\n",
       "      <td>NaN</td>\n",
       "      <td>S</td>\n",
       "    </tr>\n",
       "    <tr>\n",
       "      <th>807</th>\n",
       "      <td>808</td>\n",
       "      <td>0</td>\n",
       "      <td>3</td>\n",
       "      <td>Pettersson, Miss. Ellen Natalia</td>\n",
       "      <td>female</td>\n",
       "      <td>18.0</td>\n",
       "      <td>0</td>\n",
       "      <td>0</td>\n",
       "      <td>347087</td>\n",
       "      <td>7.7750</td>\n",
       "      <td>NaN</td>\n",
       "      <td>S</td>\n",
       "    </tr>\n",
       "    <tr>\n",
       "      <th>816</th>\n",
       "      <td>817</td>\n",
       "      <td>0</td>\n",
       "      <td>3</td>\n",
       "      <td>Heininen, Miss. Wendla Maria</td>\n",
       "      <td>female</td>\n",
       "      <td>23.0</td>\n",
       "      <td>0</td>\n",
       "      <td>0</td>\n",
       "      <td>STON/O2. 3101290</td>\n",
       "      <td>7.9250</td>\n",
       "      <td>NaN</td>\n",
       "      <td>S</td>\n",
       "    </tr>\n",
       "    <tr>\n",
       "      <th>823</th>\n",
       "      <td>824</td>\n",
       "      <td>1</td>\n",
       "      <td>3</td>\n",
       "      <td>Moor, Mrs. (Beila)</td>\n",
       "      <td>female</td>\n",
       "      <td>27.0</td>\n",
       "      <td>0</td>\n",
       "      <td>1</td>\n",
       "      <td>392096</td>\n",
       "      <td>12.4750</td>\n",
       "      <td>E121</td>\n",
       "      <td>S</td>\n",
       "    </tr>\n",
       "    <tr>\n",
       "      <th>855</th>\n",
       "      <td>856</td>\n",
       "      <td>1</td>\n",
       "      <td>3</td>\n",
       "      <td>Aks, Mrs. Sam (Leah Rosen)</td>\n",
       "      <td>female</td>\n",
       "      <td>18.0</td>\n",
       "      <td>0</td>\n",
       "      <td>1</td>\n",
       "      <td>392091</td>\n",
       "      <td>9.3500</td>\n",
       "      <td>NaN</td>\n",
       "      <td>S</td>\n",
       "    </tr>\n",
       "    <tr>\n",
       "      <th>882</th>\n",
       "      <td>883</td>\n",
       "      <td>0</td>\n",
       "      <td>3</td>\n",
       "      <td>Dahlberg, Miss. Gerda Ulrika</td>\n",
       "      <td>female</td>\n",
       "      <td>22.0</td>\n",
       "      <td>0</td>\n",
       "      <td>0</td>\n",
       "      <td>7552</td>\n",
       "      <td>10.5167</td>\n",
       "      <td>NaN</td>\n",
       "      <td>S</td>\n",
       "    </tr>\n",
       "  </tbody>\n",
       "</table>\n",
       "</div>"
      ],
      "text/plain": [
       "     PassengerId  Survived  Pclass                                   Name  \\\n",
       "2              3         1       3                 Heikkinen, Miss. Laina   \n",
       "79            80         1       3               Dowdell, Miss. Elizabeth   \n",
       "100          101         0       3                Petranec, Miss. Matilda   \n",
       "106          107         1       3       Salkjelsvik, Miss. Anna Kristine   \n",
       "141          142         1       3               Nysten, Miss. Anna Sofia   \n",
       "216          217         1       3                 Honkanen, Miss. Eliina   \n",
       "246          247         0       3  Lindahl, Miss. Agda Thorilda Viktoria   \n",
       "293          294         0       3                    Haas, Miss. Aloisia   \n",
       "315          316         1       3        Nilsson, Miss. Helmina Josefina   \n",
       "376          377         1       3        Landergren, Miss. Aurora Adelia   \n",
       "404          405         0       3                Oreskovic, Miss. Marija   \n",
       "474          475         0       3            Strandberg, Miss. Ida Sofia   \n",
       "534          535         0       3                    Cacic, Miss. Marija   \n",
       "554          555         1       3                     Ohman, Miss. Velin   \n",
       "649          650         1       3        Stanley, Miss. Amy Zillah Elsie   \n",
       "677          678         1       3                Turja, Miss. Anna Sofia   \n",
       "786          787         1       3              Sjoblom, Miss. Anna Sofia   \n",
       "807          808         0       3        Pettersson, Miss. Ellen Natalia   \n",
       "816          817         0       3           Heininen, Miss. Wendla Maria   \n",
       "823          824         1       3                     Moor, Mrs. (Beila)   \n",
       "855          856         1       3             Aks, Mrs. Sam (Leah Rosen)   \n",
       "882          883         0       3           Dahlberg, Miss. Gerda Ulrika   \n",
       "\n",
       "        Sex   Age  SibSp  Parch            Ticket     Fare Cabin Embarked  \n",
       "2    female  26.0      0      0  STON/O2. 3101282   7.9250   NaN        S  \n",
       "79   female  30.0      0      0            364516  12.4750   NaN        S  \n",
       "100  female  28.0      0      0            349245   7.8958   NaN        S  \n",
       "106  female  21.0      0      0            343120   7.6500   NaN        S  \n",
       "141  female  22.0      0      0            347081   7.7500   NaN        S  \n",
       "216  female  27.0      0      0  STON/O2. 3101283   7.9250   NaN        S  \n",
       "246  female  25.0      0      0            347071   7.7750   NaN        S  \n",
       "293  female  24.0      0      0            349236   8.8500   NaN        S  \n",
       "315  female  26.0      0      0            347470   7.8542   NaN        S  \n",
       "376  female  22.0      0      0            C 7077   7.2500   NaN        S  \n",
       "404  female  20.0      0      0            315096   8.6625   NaN        S  \n",
       "474  female  22.0      0      0              7553   9.8375   NaN        S  \n",
       "534  female  30.0      0      0            315084   8.6625   NaN        S  \n",
       "554  female  22.0      0      0            347085   7.7750   NaN        S  \n",
       "649  female  23.0      0      0          CA. 2314   7.5500   NaN        S  \n",
       "677  female  18.0      0      0              4138   9.8417   NaN        S  \n",
       "786  female  18.0      0      0           3101265   7.4958   NaN        S  \n",
       "807  female  18.0      0      0            347087   7.7750   NaN        S  \n",
       "816  female  23.0      0      0  STON/O2. 3101290   7.9250   NaN        S  \n",
       "823  female  27.0      0      1            392096  12.4750  E121        S  \n",
       "855  female  18.0      0      1            392091   9.3500   NaN        S  \n",
       "882  female  22.0      0      0              7552  10.5167   NaN        S  "
      ]
     },
     "execution_count": 42,
     "metadata": {},
     "output_type": "execute_result"
    }
   ],
   "source": [
    "left_left"
   ]
  },
  {
   "cell_type": "markdown",
   "id": "13002796-a261-484a-85a7-0fa95e88cdde",
   "metadata": {},
   "source": [
    "## For the male branch"
   ]
  },
  {
   "cell_type": "code",
   "execution_count": 43,
   "id": "2268acef-05fb-45bf-a72f-f65e055a7dbc",
   "metadata": {},
   "outputs": [],
   "source": [
    "feature_conditions = [\n",
    "    featureCondition('Pclass', '==', 1, '!=', 1),\n",
    "    featureCondition('SibSp', '<=', 0, '>', 0),\n",
    "    featureCondition('Parch', '==', 0, '>', 0),\n",
    "    featureCondition('Fare', '<=', 28, '>', 28),\n",
    "    featureCondition('Age', '<=',10, '>', 10),\n",
    "    featureCondition('Embarked', '==', 'S', '!=', 'S'),\n",
    "]"
   ]
  },
  {
   "cell_type": "code",
   "execution_count": 44,
   "id": "de09f935-8a0a-49b0-9992-d49f57972dfc",
   "metadata": {},
   "outputs": [
    {
     "name": "stdout",
     "output_type": "stream",
     "text": [
      "the information gain from spliting Pclass is: 0.03629244608563931\n",
      "the information gain from spliting SibSp is: 0.0058374027450041055\n",
      "the information gain from spliting Parch is: 0.012321406464797402\n",
      "the information gain from spliting Fare is: 0.025216802883253564\n",
      "the information gain from spliting Age is: 0.004802946128529606\n",
      "the information gain from spliting Embarked is: 0.0030061046348678344\n",
      "max information gain is 0.03629244608563931 for spliting on Pclass\n",
      "survival rate on left is 0.36885245901639346\n",
      "survival rate on right is 0.14065934065934066\n",
      "splited on Pclass, left split is == 1, right_split is != 1\n"
     ]
    }
   ],
   "source": [
    "pclass1,pclass_not1 = tree_iteraion(male_data, feature_conditions)"
   ]
  },
  {
   "cell_type": "code",
   "execution_count": 45,
   "id": "ea78d2b6-08b1-4833-9063-b009b22c787e",
   "metadata": {},
   "outputs": [],
   "source": [
    "feature_conditions = [\n",
    "    featureCondition('SibSp', '<=', 0, '>', 0),\n",
    "    featureCondition('Parch', '<=', 1, '>', 1),\n",
    "    featureCondition('Fare', '<=', 50, '>', 50),\n",
    "    featureCondition('Age', '<=',20, '>', 20),\n",
    "    featureCondition('Embarked', '==', 'S', '!=', 'S'),\n",
    "]"
   ]
  },
  {
   "cell_type": "code",
   "execution_count": 46,
   "id": "6d8096de-2e3c-4cc4-8f98-ce1d48d502dd",
   "metadata": {},
   "outputs": [
    {
     "name": "stdout",
     "output_type": "stream",
     "text": [
      "the information gain from spliting SibSp is: 0.012182966956930441\n",
      "the information gain from spliting Parch is: 0.008265668168892737\n",
      "the information gain from spliting Fare is: 0.0007952582721569845\n",
      "the information gain from spliting Age is: -0.012072019778266108\n",
      "the information gain from spliting Embarked is: 0.001179261370749085\n",
      "max information gain is 0.012182966956930441 for spliting on SibSp\n",
      "survival rate on left is 0.32954545454545453\n",
      "survival rate on right is 0.47058823529411764\n",
      "splited on SibSp, left split is <= 0, right_split is > 0\n"
     ]
    }
   ],
   "source": [
    "sibsp0,sibsp_not_0 = tree_iteraion(pclass1, feature_conditions)"
   ]
  },
  {
   "cell_type": "code",
   "execution_count": 47,
   "id": "af06241d-cb42-407a-8f1d-af12ad646fbc",
   "metadata": {},
   "outputs": [],
   "source": [
    "feature_conditions = [\n",
    "    featureCondition('Parch', '<=', 1, '>', 1),\n",
    "    featureCondition('Fare', '<=', 38, '>', 38),\n",
    "    featureCondition('Age', '<=',36, '>', 36),\n",
    "    featureCondition('Embarked', '==', 'C', '!=', 'C'),\n",
    "]"
   ]
  },
  {
   "cell_type": "code",
   "execution_count": 48,
   "id": "efd4561f-1e3d-4111-8cd0-d428ced96111",
   "metadata": {},
   "outputs": [
    {
     "name": "stdout",
     "output_type": "stream",
     "text": [
      "the information gain from spliting Parch is: 0.00425708547070458\n",
      "the information gain from spliting Fare is: 0.029757769174988624\n",
      "the information gain from spliting Age is: 0.09050101484434558\n",
      "the information gain from spliting Embarked is: 0.00037530970443433453\n",
      "max information gain is 0.09050101484434558 for spliting on Age\n",
      "survival rate on left is 0.5925925925925926\n",
      "survival rate on right is 0.2\n",
      "splited on Age, left split is <= 36, right_split is > 36\n"
     ]
    }
   ],
   "source": [
    "fare_less_38,fare_great_38 = tree_iteraion(sibsp0, feature_conditions)"
   ]
  },
  {
   "cell_type": "code",
   "execution_count": 49,
   "id": "e2af94e7-b740-4fd4-8648-0b44abe01ccb",
   "metadata": {},
   "outputs": [],
   "source": [
    "feature_conditions = [\n",
    "    featureCondition('Parch', '<=', 0, '>', 0),\n",
    "    featureCondition('Fare', '<=', 100, '>', 100),\n",
    "    # featureCondition('Age', '<=',30, '>', 30),\n",
    "    featureCondition('Embarked', '==', 'C', '!=', 'C'),\n",
    "]"
   ]
  },
  {
   "cell_type": "code",
   "execution_count": 50,
   "id": "b3897e89-e9a7-4669-8583-0ce6ada4a947",
   "metadata": {},
   "outputs": [
    {
     "name": "stdout",
     "output_type": "stream",
     "text": [
      "the information gain from spliting Parch is: 0.001042667649606921\n",
      "the information gain from spliting Fare is: 0.0007136364154669561\n",
      "the information gain from spliting Embarked is: 0.020256778599281433\n",
      "max information gain is 0.020256778599281433 for spliting on Embarked\n",
      "survival rate on left is 0.6\n",
      "survival rate on right is 0.4166666666666667\n",
      "splited on Embarked, left split is == C, right_split is != C\n"
     ]
    }
   ],
   "source": [
    "embarked_c,embarked_not_c = tree_iteraion(sibsp_not_0, feature_conditions)"
   ]
  },
  {
   "cell_type": "code",
   "execution_count": 51,
   "id": "cf89f2aa-0365-45a6-8eb9-52fdc03fbeef",
   "metadata": {},
   "outputs": [],
   "source": [
    "feature_conditions = [\n",
    "    featureCondition('Parch', '<=', 0, '>', 0),\n",
    "    featureCondition('Fare', '<=', 100, '>', 100),\n",
    "    featureCondition('Age', '<=',35, '>', 35),\n",
    "]"
   ]
  },
  {
   "cell_type": "code",
   "execution_count": 52,
   "id": "083c645e-589d-49f9-b772-1d21fae9b777",
   "metadata": {},
   "outputs": [
    {
     "name": "stdout",
     "output_type": "stream",
     "text": [
      "the information gain from spliting Parch is: 0.010246088034509326\n",
      "the information gain from spliting Fare is: 0.06157292259666325\n",
      "the information gain from spliting Age is: 0.010246088034509326\n",
      "max information gain is 0.06157292259666325 for spliting on Fare\n",
      "survival rate on left is 0.3333333333333333\n",
      "survival rate on right is 0.6666666666666666\n",
      "splited on Fare, left split is <= 100, right_split is > 100\n"
     ]
    }
   ],
   "source": [
    "fare_less_100,fare_great_100 = tree_iteraion(embarked_not_c, feature_conditions)"
   ]
  },
  {
   "cell_type": "code",
   "execution_count": 53,
   "id": "0df68f60-385b-4ba7-b17b-24b60dcde5fe",
   "metadata": {},
   "outputs": [],
   "source": [
    "feature_conditions = [\n",
    "    featureCondition('Age', '<=',36, '>', 36),\n",
    "    featureCondition('Embarked', '==', 'S', '!=', 'S'),\n",
    "]"
   ]
  },
  {
   "cell_type": "code",
   "execution_count": 54,
   "id": "0e8a4f08-34f7-40e3-846c-d70230624171",
   "metadata": {},
   "outputs": [
    {
     "data": {
      "text/html": [
       "<div>\n",
       "<style scoped>\n",
       "    .dataframe tbody tr th:only-of-type {\n",
       "        vertical-align: middle;\n",
       "    }\n",
       "\n",
       "    .dataframe tbody tr th {\n",
       "        vertical-align: top;\n",
       "    }\n",
       "\n",
       "    .dataframe thead th {\n",
       "        text-align: right;\n",
       "    }\n",
       "</style>\n",
       "<table border=\"1\" class=\"dataframe\">\n",
       "  <thead>\n",
       "    <tr style=\"text-align: right;\">\n",
       "      <th></th>\n",
       "      <th>PassengerId</th>\n",
       "      <th>Survived</th>\n",
       "      <th>Pclass</th>\n",
       "      <th>Name</th>\n",
       "      <th>Sex</th>\n",
       "      <th>Age</th>\n",
       "      <th>SibSp</th>\n",
       "      <th>Parch</th>\n",
       "      <th>Ticket</th>\n",
       "      <th>Fare</th>\n",
       "      <th>Cabin</th>\n",
       "      <th>Embarked</th>\n",
       "    </tr>\n",
       "  </thead>\n",
       "  <tbody>\n",
       "    <tr>\n",
       "      <th>18</th>\n",
       "      <td>19</td>\n",
       "      <td>0</td>\n",
       "      <td>3</td>\n",
       "      <td>Vander Planke, Mrs. Julius (Emelia Maria Vande...</td>\n",
       "      <td>female</td>\n",
       "      <td>31.0</td>\n",
       "      <td>1</td>\n",
       "      <td>0</td>\n",
       "      <td>345763</td>\n",
       "      <td>18.0000</td>\n",
       "      <td>NaN</td>\n",
       "      <td>S</td>\n",
       "    </tr>\n",
       "    <tr>\n",
       "      <th>38</th>\n",
       "      <td>39</td>\n",
       "      <td>0</td>\n",
       "      <td>3</td>\n",
       "      <td>Vander Planke, Miss. Augusta Maria</td>\n",
       "      <td>female</td>\n",
       "      <td>18.0</td>\n",
       "      <td>2</td>\n",
       "      <td>0</td>\n",
       "      <td>345764</td>\n",
       "      <td>18.0000</td>\n",
       "      <td>NaN</td>\n",
       "      <td>S</td>\n",
       "    </tr>\n",
       "    <tr>\n",
       "      <th>40</th>\n",
       "      <td>41</td>\n",
       "      <td>0</td>\n",
       "      <td>3</td>\n",
       "      <td>Ahlin, Mrs. Johan (Johanna Persdotter Larsson)</td>\n",
       "      <td>female</td>\n",
       "      <td>40.0</td>\n",
       "      <td>1</td>\n",
       "      <td>0</td>\n",
       "      <td>7546</td>\n",
       "      <td>9.4750</td>\n",
       "      <td>NaN</td>\n",
       "      <td>S</td>\n",
       "    </tr>\n",
       "    <tr>\n",
       "      <th>49</th>\n",
       "      <td>50</td>\n",
       "      <td>0</td>\n",
       "      <td>3</td>\n",
       "      <td>Arnold-Franchi, Mrs. Josef (Josefine Franchi)</td>\n",
       "      <td>female</td>\n",
       "      <td>18.0</td>\n",
       "      <td>1</td>\n",
       "      <td>0</td>\n",
       "      <td>349237</td>\n",
       "      <td>17.8000</td>\n",
       "      <td>NaN</td>\n",
       "      <td>S</td>\n",
       "    </tr>\n",
       "    <tr>\n",
       "      <th>85</th>\n",
       "      <td>86</td>\n",
       "      <td>1</td>\n",
       "      <td>3</td>\n",
       "      <td>Backstrom, Mrs. Karl Alfred (Maria Mathilda Gu...</td>\n",
       "      <td>female</td>\n",
       "      <td>33.0</td>\n",
       "      <td>3</td>\n",
       "      <td>0</td>\n",
       "      <td>3101278</td>\n",
       "      <td>15.8500</td>\n",
       "      <td>NaN</td>\n",
       "      <td>S</td>\n",
       "    </tr>\n",
       "    <tr>\n",
       "      <th>113</th>\n",
       "      <td>114</td>\n",
       "      <td>0</td>\n",
       "      <td>3</td>\n",
       "      <td>Jussila, Miss. Katriina</td>\n",
       "      <td>female</td>\n",
       "      <td>20.0</td>\n",
       "      <td>1</td>\n",
       "      <td>0</td>\n",
       "      <td>4136</td>\n",
       "      <td>9.8250</td>\n",
       "      <td>NaN</td>\n",
       "      <td>S</td>\n",
       "    </tr>\n",
       "    <tr>\n",
       "      <th>132</th>\n",
       "      <td>133</td>\n",
       "      <td>0</td>\n",
       "      <td>3</td>\n",
       "      <td>Robins, Mrs. Alexander A (Grace Charity Laury)</td>\n",
       "      <td>female</td>\n",
       "      <td>47.0</td>\n",
       "      <td>1</td>\n",
       "      <td>0</td>\n",
       "      <td>A/5. 3337</td>\n",
       "      <td>14.5000</td>\n",
       "      <td>NaN</td>\n",
       "      <td>S</td>\n",
       "    </tr>\n",
       "    <tr>\n",
       "      <th>142</th>\n",
       "      <td>143</td>\n",
       "      <td>1</td>\n",
       "      <td>3</td>\n",
       "      <td>Hakkarainen, Mrs. Pekka Pietari (Elin Matilda ...</td>\n",
       "      <td>female</td>\n",
       "      <td>24.0</td>\n",
       "      <td>1</td>\n",
       "      <td>0</td>\n",
       "      <td>STON/O2. 3101279</td>\n",
       "      <td>15.8500</td>\n",
       "      <td>NaN</td>\n",
       "      <td>S</td>\n",
       "    </tr>\n",
       "    <tr>\n",
       "      <th>192</th>\n",
       "      <td>193</td>\n",
       "      <td>1</td>\n",
       "      <td>3</td>\n",
       "      <td>Andersen-Jensen, Miss. Carla Christine Nielsine</td>\n",
       "      <td>female</td>\n",
       "      <td>19.0</td>\n",
       "      <td>1</td>\n",
       "      <td>0</td>\n",
       "      <td>350046</td>\n",
       "      <td>7.8542</td>\n",
       "      <td>NaN</td>\n",
       "      <td>S</td>\n",
       "    </tr>\n",
       "    <tr>\n",
       "      <th>251</th>\n",
       "      <td>252</td>\n",
       "      <td>0</td>\n",
       "      <td>3</td>\n",
       "      <td>Strom, Mrs. Wilhelm (Elna Matilda Persson)</td>\n",
       "      <td>female</td>\n",
       "      <td>29.0</td>\n",
       "      <td>1</td>\n",
       "      <td>1</td>\n",
       "      <td>347054</td>\n",
       "      <td>10.4625</td>\n",
       "      <td>G6</td>\n",
       "      <td>S</td>\n",
       "    </tr>\n",
       "    <tr>\n",
       "      <th>279</th>\n",
       "      <td>280</td>\n",
       "      <td>1</td>\n",
       "      <td>3</td>\n",
       "      <td>Abbott, Mrs. Stanton (Rosa Hunt)</td>\n",
       "      <td>female</td>\n",
       "      <td>35.0</td>\n",
       "      <td>1</td>\n",
       "      <td>1</td>\n",
       "      <td>C.A. 2673</td>\n",
       "      <td>20.2500</td>\n",
       "      <td>NaN</td>\n",
       "      <td>S</td>\n",
       "    </tr>\n",
       "    <tr>\n",
       "      <th>328</th>\n",
       "      <td>329</td>\n",
       "      <td>1</td>\n",
       "      <td>3</td>\n",
       "      <td>Goldsmith, Mrs. Frank John (Emily Alice Brown)</td>\n",
       "      <td>female</td>\n",
       "      <td>31.0</td>\n",
       "      <td>1</td>\n",
       "      <td>1</td>\n",
       "      <td>363291</td>\n",
       "      <td>20.5250</td>\n",
       "      <td>NaN</td>\n",
       "      <td>S</td>\n",
       "    </tr>\n",
       "    <tr>\n",
       "      <th>402</th>\n",
       "      <td>403</td>\n",
       "      <td>0</td>\n",
       "      <td>3</td>\n",
       "      <td>Jussila, Miss. Mari Aina</td>\n",
       "      <td>female</td>\n",
       "      <td>21.0</td>\n",
       "      <td>1</td>\n",
       "      <td>0</td>\n",
       "      <td>4137</td>\n",
       "      <td>9.8250</td>\n",
       "      <td>NaN</td>\n",
       "      <td>S</td>\n",
       "    </tr>\n",
       "    <tr>\n",
       "      <th>423</th>\n",
       "      <td>424</td>\n",
       "      <td>0</td>\n",
       "      <td>3</td>\n",
       "      <td>Danbom, Mrs. Ernst Gilbert (Anna Sigrid Maria ...</td>\n",
       "      <td>female</td>\n",
       "      <td>28.0</td>\n",
       "      <td>1</td>\n",
       "      <td>1</td>\n",
       "      <td>347080</td>\n",
       "      <td>14.4000</td>\n",
       "      <td>NaN</td>\n",
       "      <td>S</td>\n",
       "    </tr>\n",
       "    <tr>\n",
       "      <th>559</th>\n",
       "      <td>560</td>\n",
       "      <td>1</td>\n",
       "      <td>3</td>\n",
       "      <td>de Messemaeker, Mrs. Guillaume Joseph (Emma)</td>\n",
       "      <td>female</td>\n",
       "      <td>36.0</td>\n",
       "      <td>1</td>\n",
       "      <td>0</td>\n",
       "      <td>345572</td>\n",
       "      <td>17.4000</td>\n",
       "      <td>NaN</td>\n",
       "      <td>S</td>\n",
       "    </tr>\n",
       "    <tr>\n",
       "      <th>617</th>\n",
       "      <td>618</td>\n",
       "      <td>0</td>\n",
       "      <td>3</td>\n",
       "      <td>Lobb, Mrs. William Arthur (Cordelia K Stanlick)</td>\n",
       "      <td>female</td>\n",
       "      <td>26.0</td>\n",
       "      <td>1</td>\n",
       "      <td>0</td>\n",
       "      <td>A/5. 3336</td>\n",
       "      <td>16.1000</td>\n",
       "      <td>NaN</td>\n",
       "      <td>S</td>\n",
       "    </tr>\n",
       "    <tr>\n",
       "      <th>729</th>\n",
       "      <td>730</td>\n",
       "      <td>0</td>\n",
       "      <td>3</td>\n",
       "      <td>Ilmakangas, Miss. Pieta Sofia</td>\n",
       "      <td>female</td>\n",
       "      <td>25.0</td>\n",
       "      <td>1</td>\n",
       "      <td>0</td>\n",
       "      <td>STON/O2. 3101271</td>\n",
       "      <td>7.9250</td>\n",
       "      <td>NaN</td>\n",
       "      <td>S</td>\n",
       "    </tr>\n",
       "  </tbody>\n",
       "</table>\n",
       "</div>"
      ],
      "text/plain": [
       "     PassengerId  Survived  Pclass  \\\n",
       "18            19         0       3   \n",
       "38            39         0       3   \n",
       "40            41         0       3   \n",
       "49            50         0       3   \n",
       "85            86         1       3   \n",
       "113          114         0       3   \n",
       "132          133         0       3   \n",
       "142          143         1       3   \n",
       "192          193         1       3   \n",
       "251          252         0       3   \n",
       "279          280         1       3   \n",
       "328          329         1       3   \n",
       "402          403         0       3   \n",
       "423          424         0       3   \n",
       "559          560         1       3   \n",
       "617          618         0       3   \n",
       "729          730         0       3   \n",
       "\n",
       "                                                  Name     Sex   Age  SibSp  \\\n",
       "18   Vander Planke, Mrs. Julius (Emelia Maria Vande...  female  31.0      1   \n",
       "38                  Vander Planke, Miss. Augusta Maria  female  18.0      2   \n",
       "40      Ahlin, Mrs. Johan (Johanna Persdotter Larsson)  female  40.0      1   \n",
       "49       Arnold-Franchi, Mrs. Josef (Josefine Franchi)  female  18.0      1   \n",
       "85   Backstrom, Mrs. Karl Alfred (Maria Mathilda Gu...  female  33.0      3   \n",
       "113                            Jussila, Miss. Katriina  female  20.0      1   \n",
       "132     Robins, Mrs. Alexander A (Grace Charity Laury)  female  47.0      1   \n",
       "142  Hakkarainen, Mrs. Pekka Pietari (Elin Matilda ...  female  24.0      1   \n",
       "192    Andersen-Jensen, Miss. Carla Christine Nielsine  female  19.0      1   \n",
       "251         Strom, Mrs. Wilhelm (Elna Matilda Persson)  female  29.0      1   \n",
       "279                   Abbott, Mrs. Stanton (Rosa Hunt)  female  35.0      1   \n",
       "328     Goldsmith, Mrs. Frank John (Emily Alice Brown)  female  31.0      1   \n",
       "402                           Jussila, Miss. Mari Aina  female  21.0      1   \n",
       "423  Danbom, Mrs. Ernst Gilbert (Anna Sigrid Maria ...  female  28.0      1   \n",
       "559       de Messemaeker, Mrs. Guillaume Joseph (Emma)  female  36.0      1   \n",
       "617    Lobb, Mrs. William Arthur (Cordelia K Stanlick)  female  26.0      1   \n",
       "729                      Ilmakangas, Miss. Pieta Sofia  female  25.0      1   \n",
       "\n",
       "     Parch            Ticket     Fare Cabin Embarked  \n",
       "18       0            345763  18.0000   NaN        S  \n",
       "38       0            345764  18.0000   NaN        S  \n",
       "40       0              7546   9.4750   NaN        S  \n",
       "49       0            349237  17.8000   NaN        S  \n",
       "85       0           3101278  15.8500   NaN        S  \n",
       "113      0              4136   9.8250   NaN        S  \n",
       "132      0         A/5. 3337  14.5000   NaN        S  \n",
       "142      0  STON/O2. 3101279  15.8500   NaN        S  \n",
       "192      0            350046   7.8542   NaN        S  \n",
       "251      1            347054  10.4625    G6        S  \n",
       "279      1         C.A. 2673  20.2500   NaN        S  \n",
       "328      1            363291  20.5250   NaN        S  \n",
       "402      0              4137   9.8250   NaN        S  \n",
       "423      1            347080  14.4000   NaN        S  \n",
       "559      0            345572  17.4000   NaN        S  \n",
       "617      0         A/5. 3336  16.1000   NaN        S  \n",
       "729      0  STON/O2. 3101271   7.9250   NaN        S  "
      ]
     },
     "execution_count": 54,
     "metadata": {},
     "output_type": "execute_result"
    }
   ],
   "source": [
    "right"
   ]
  },
  {
   "cell_type": "markdown",
   "id": "634fb9c5-09e9-4cb9-b658-3b773f16fdbf",
   "metadata": {},
   "source": [
    "## Build Tree"
   ]
  },
  {
   "cell_type": "code",
   "execution_count": 55,
   "id": "0c976ba6-a921-4fd8-af8d-23fcf87ca684",
   "metadata": {},
   "outputs": [],
   "source": [
    "def fit_decision_tree(data):\n",
    "    if data['Sex'] == 'female':\n",
    "        if data['Pclass'] < 3:\n",
    "            return 1\n",
    "        else:\n",
    "            if data['Fare'] > 21:\n",
    "                return 0\n",
    "            else:\n",
    "                if data['Age'] <= 16:\n",
    "                    return 1\n",
    "                else:\n",
    "                    if data['Parch'] <= 1:\n",
    "                        return 0\n",
    "                    else:\n",
    "                        return 1\n",
    "    \n",
    "    else:\n",
    "        if data['Pclass'] != 1:\n",
    "            return 0\n",
    "        else:\n",
    "            return 0\n",
    "#             if data['SibSp'] == 0:\n",
    "#                 if data['Fare']>38:\n",
    "#                     return 0\n",
    "#                 else:\n",
    "#                     if data['Age']<=36:\n",
    "#                         return 1\n",
    "#                     else:\n",
    "#                         return 0\n",
    "            \n",
    "#             else:\n",
    "#                 if data['Embarked'] == 'C':\n",
    "#                     return 1\n",
    "#                 else:\n",
    "#                     if data['Fare'] <= 100:\n",
    "#                         return 0\n",
    "#                     else:\n",
    "#                         return 1\n",
    "                    "
   ]
  },
  {
   "cell_type": "code",
   "execution_count": 56,
   "id": "594208df-80c6-4143-97c9-f741f737f420",
   "metadata": {},
   "outputs": [],
   "source": [
    "test = pd.read_csv('test.csv')"
   ]
  },
  {
   "cell_type": "code",
   "execution_count": 57,
   "id": "e3c3cf26-1a04-4728-911f-2f6cb31b10f9",
   "metadata": {},
   "outputs": [
    {
     "data": {
      "text/html": [
       "<div>\n",
       "<style scoped>\n",
       "    .dataframe tbody tr th:only-of-type {\n",
       "        vertical-align: middle;\n",
       "    }\n",
       "\n",
       "    .dataframe tbody tr th {\n",
       "        vertical-align: top;\n",
       "    }\n",
       "\n",
       "    .dataframe thead th {\n",
       "        text-align: right;\n",
       "    }\n",
       "</style>\n",
       "<table border=\"1\" class=\"dataframe\">\n",
       "  <thead>\n",
       "    <tr style=\"text-align: right;\">\n",
       "      <th></th>\n",
       "      <th>PassengerId</th>\n",
       "      <th>Pclass</th>\n",
       "      <th>Name</th>\n",
       "      <th>Sex</th>\n",
       "      <th>Age</th>\n",
       "      <th>SibSp</th>\n",
       "      <th>Parch</th>\n",
       "      <th>Ticket</th>\n",
       "      <th>Fare</th>\n",
       "      <th>Cabin</th>\n",
       "      <th>Embarked</th>\n",
       "    </tr>\n",
       "  </thead>\n",
       "  <tbody>\n",
       "    <tr>\n",
       "      <th>0</th>\n",
       "      <td>892</td>\n",
       "      <td>3</td>\n",
       "      <td>Kelly, Mr. James</td>\n",
       "      <td>male</td>\n",
       "      <td>34.5</td>\n",
       "      <td>0</td>\n",
       "      <td>0</td>\n",
       "      <td>330911</td>\n",
       "      <td>7.8292</td>\n",
       "      <td>NaN</td>\n",
       "      <td>Q</td>\n",
       "    </tr>\n",
       "    <tr>\n",
       "      <th>1</th>\n",
       "      <td>893</td>\n",
       "      <td>3</td>\n",
       "      <td>Wilkes, Mrs. James (Ellen Needs)</td>\n",
       "      <td>female</td>\n",
       "      <td>47.0</td>\n",
       "      <td>1</td>\n",
       "      <td>0</td>\n",
       "      <td>363272</td>\n",
       "      <td>7.0000</td>\n",
       "      <td>NaN</td>\n",
       "      <td>S</td>\n",
       "    </tr>\n",
       "    <tr>\n",
       "      <th>2</th>\n",
       "      <td>894</td>\n",
       "      <td>2</td>\n",
       "      <td>Myles, Mr. Thomas Francis</td>\n",
       "      <td>male</td>\n",
       "      <td>62.0</td>\n",
       "      <td>0</td>\n",
       "      <td>0</td>\n",
       "      <td>240276</td>\n",
       "      <td>9.6875</td>\n",
       "      <td>NaN</td>\n",
       "      <td>Q</td>\n",
       "    </tr>\n",
       "    <tr>\n",
       "      <th>3</th>\n",
       "      <td>895</td>\n",
       "      <td>3</td>\n",
       "      <td>Wirz, Mr. Albert</td>\n",
       "      <td>male</td>\n",
       "      <td>27.0</td>\n",
       "      <td>0</td>\n",
       "      <td>0</td>\n",
       "      <td>315154</td>\n",
       "      <td>8.6625</td>\n",
       "      <td>NaN</td>\n",
       "      <td>S</td>\n",
       "    </tr>\n",
       "    <tr>\n",
       "      <th>4</th>\n",
       "      <td>896</td>\n",
       "      <td>3</td>\n",
       "      <td>Hirvonen, Mrs. Alexander (Helga E Lindqvist)</td>\n",
       "      <td>female</td>\n",
       "      <td>22.0</td>\n",
       "      <td>1</td>\n",
       "      <td>1</td>\n",
       "      <td>3101298</td>\n",
       "      <td>12.2875</td>\n",
       "      <td>NaN</td>\n",
       "      <td>S</td>\n",
       "    </tr>\n",
       "  </tbody>\n",
       "</table>\n",
       "</div>"
      ],
      "text/plain": [
       "   PassengerId  Pclass                                          Name     Sex  \\\n",
       "0          892       3                              Kelly, Mr. James    male   \n",
       "1          893       3              Wilkes, Mrs. James (Ellen Needs)  female   \n",
       "2          894       2                     Myles, Mr. Thomas Francis    male   \n",
       "3          895       3                              Wirz, Mr. Albert    male   \n",
       "4          896       3  Hirvonen, Mrs. Alexander (Helga E Lindqvist)  female   \n",
       "\n",
       "    Age  SibSp  Parch   Ticket     Fare Cabin Embarked  \n",
       "0  34.5      0      0   330911   7.8292   NaN        Q  \n",
       "1  47.0      1      0   363272   7.0000   NaN        S  \n",
       "2  62.0      0      0   240276   9.6875   NaN        Q  \n",
       "3  27.0      0      0   315154   8.6625   NaN        S  \n",
       "4  22.0      1      1  3101298  12.2875   NaN        S  "
      ]
     },
     "execution_count": 57,
     "metadata": {},
     "output_type": "execute_result"
    }
   ],
   "source": [
    "test.head()"
   ]
  },
  {
   "cell_type": "code",
   "execution_count": 58,
   "id": "6a4aed1b-7312-4e36-91b5-0daeb9c710ee",
   "metadata": {},
   "outputs": [],
   "source": [
    "\n",
    "ls = []\n",
    "for i, data in test.iterrows():\n",
    "    # print(fit_decision_tree(data))\n",
    "    ls.append((data['PassengerId'],fit_decision_tree(data)))\n",
    "df = pd.DataFrame(data=ls, columns=['PassengerId', 'Survived'])"
   ]
  },
  {
   "cell_type": "code",
   "execution_count": 59,
   "id": "f8bb160e-1c98-4f22-8895-4d8193430a7a",
   "metadata": {},
   "outputs": [],
   "source": [
    "df.to_csv('my_2nd_submission.csv', index=False)"
   ]
  },
  {
   "cell_type": "code",
   "execution_count": 60,
   "id": "bac19c5d-b194-4bd0-9a2f-940b3a0366ca",
   "metadata": {},
   "outputs": [],
   "source": [
    "ls2=[]\n",
    "for i, data in train_data.iterrows():\n",
    "    # print(fit_decision_tree(data))\n",
    "    ls2.append((data['PassengerId'],fit_decision_tree(data)))\n",
    "df_train = pd.DataFrame(data=ls2, columns=['PassengerId', 'Survived'])"
   ]
  },
  {
   "cell_type": "code",
   "execution_count": 61,
   "id": "086dce5a-8186-4b97-b238-19e96c658563",
   "metadata": {},
   "outputs": [],
   "source": [
    "test_accuracy = df_train['Survived'] == train_data['Survived']"
   ]
  },
  {
   "cell_type": "code",
   "execution_count": 62,
   "id": "2486d45b-d146-4455-a23a-c1ef638dfa96",
   "metadata": {},
   "outputs": [
    {
     "name": "stdout",
     "output_type": "stream",
     "text": [
      "0.8024691358024691\n"
     ]
    }
   ],
   "source": [
    "correct = 0\n",
    "for i in test_accuracy:\n",
    "    if i:\n",
    "        correct += 1\n",
    "print(correct/len(test_accuracy))"
   ]
  },
  {
   "cell_type": "code",
   "execution_count": 63,
   "id": "99d6f5a3-5cc7-4193-99f5-fbd57aca90be",
   "metadata": {},
   "outputs": [],
   "source": [
    "ls3=[]\n",
    "for i, data in train_data.iterrows():\n",
    "    # print(fit_decision_tree(data))\n",
    "    if data['Sex'] == 'male':\n",
    "        ls3.append((data['PassengerId'], 0))\n",
    "    if data['Sex'] == 'female':\n",
    "        ls3.append((data['PassengerId'], 1))\n",
    "df_sex = pd.DataFrame(data=ls3, columns=['PassengerId', 'Survived'])"
   ]
  },
  {
   "cell_type": "code",
   "execution_count": 64,
   "id": "608f99a8-b386-44ee-be28-29d33edce318",
   "metadata": {},
   "outputs": [],
   "source": [
    "test_accuracy2 = df_sex['Survived'] == train_data['Survived']"
   ]
  },
  {
   "cell_type": "code",
   "execution_count": 65,
   "id": "76760ab9-3af0-49ad-9810-6b09ee6231fa",
   "metadata": {},
   "outputs": [
    {
     "name": "stdout",
     "output_type": "stream",
     "text": [
      "0.7867564534231201\n"
     ]
    }
   ],
   "source": [
    "correct = 0\n",
    "for i in test_accuracy2:\n",
    "    if i:\n",
    "        correct += 1\n",
    "print(correct/len(test_accuracy2))"
   ]
  },
  {
   "cell_type": "markdown",
   "id": "682665b4-a5aa-4a75-9bc0-fb32fdafa819",
   "metadata": {},
   "source": [
    "## Random Forest for TItanic"
   ]
  },
  {
   "cell_type": "code",
   "execution_count": 66,
   "id": "d92ab6ba-7c1b-4440-8292-632df97048b7",
   "metadata": {},
   "outputs": [],
   "source": [
    "from sklearn.ensemble import RandomForestClassifier"
   ]
  },
  {
   "cell_type": "code",
   "execution_count": 67,
   "id": "5a82a9be-ba98-4c2f-b700-c791d26b1b49",
   "metadata": {},
   "outputs": [],
   "source": [
    "train_data[\"Embarked\"] = train_data[\"Embarked\"].fillna(\"S\")"
   ]
  },
  {
   "cell_type": "code",
   "execution_count": 68,
   "id": "97f6e617-0ffa-4e2e-8007-81da70eba7ad",
   "metadata": {},
   "outputs": [],
   "source": [
    "train_data['Embarked'] = train_data['Embarked'].map({'S':0, 'C':1, 'Q':2})"
   ]
  },
  {
   "cell_type": "code",
   "execution_count": 69,
   "id": "232fceda-a02f-4f19-b352-86d628a5f230",
   "metadata": {},
   "outputs": [
    {
     "data": {
      "text/html": [
       "<style>#sk-container-id-1 {color: black;background-color: white;}#sk-container-id-1 pre{padding: 0;}#sk-container-id-1 div.sk-toggleable {background-color: white;}#sk-container-id-1 label.sk-toggleable__label {cursor: pointer;display: block;width: 100%;margin-bottom: 0;padding: 0.3em;box-sizing: border-box;text-align: center;}#sk-container-id-1 label.sk-toggleable__label-arrow:before {content: \"▸\";float: left;margin-right: 0.25em;color: #696969;}#sk-container-id-1 label.sk-toggleable__label-arrow:hover:before {color: black;}#sk-container-id-1 div.sk-estimator:hover label.sk-toggleable__label-arrow:before {color: black;}#sk-container-id-1 div.sk-toggleable__content {max-height: 0;max-width: 0;overflow: hidden;text-align: left;background-color: #f0f8ff;}#sk-container-id-1 div.sk-toggleable__content pre {margin: 0.2em;color: black;border-radius: 0.25em;background-color: #f0f8ff;}#sk-container-id-1 input.sk-toggleable__control:checked~div.sk-toggleable__content {max-height: 200px;max-width: 100%;overflow: auto;}#sk-container-id-1 input.sk-toggleable__control:checked~label.sk-toggleable__label-arrow:before {content: \"▾\";}#sk-container-id-1 div.sk-estimator input.sk-toggleable__control:checked~label.sk-toggleable__label {background-color: #d4ebff;}#sk-container-id-1 div.sk-label input.sk-toggleable__control:checked~label.sk-toggleable__label {background-color: #d4ebff;}#sk-container-id-1 input.sk-hidden--visually {border: 0;clip: rect(1px 1px 1px 1px);clip: rect(1px, 1px, 1px, 1px);height: 1px;margin: -1px;overflow: hidden;padding: 0;position: absolute;width: 1px;}#sk-container-id-1 div.sk-estimator {font-family: monospace;background-color: #f0f8ff;border: 1px dotted black;border-radius: 0.25em;box-sizing: border-box;margin-bottom: 0.5em;}#sk-container-id-1 div.sk-estimator:hover {background-color: #d4ebff;}#sk-container-id-1 div.sk-parallel-item::after {content: \"\";width: 100%;border-bottom: 1px solid gray;flex-grow: 1;}#sk-container-id-1 div.sk-label:hover label.sk-toggleable__label {background-color: #d4ebff;}#sk-container-id-1 div.sk-serial::before {content: \"\";position: absolute;border-left: 1px solid gray;box-sizing: border-box;top: 0;bottom: 0;left: 50%;z-index: 0;}#sk-container-id-1 div.sk-serial {display: flex;flex-direction: column;align-items: center;background-color: white;padding-right: 0.2em;padding-left: 0.2em;position: relative;}#sk-container-id-1 div.sk-item {position: relative;z-index: 1;}#sk-container-id-1 div.sk-parallel {display: flex;align-items: stretch;justify-content: center;background-color: white;position: relative;}#sk-container-id-1 div.sk-item::before, #sk-container-id-1 div.sk-parallel-item::before {content: \"\";position: absolute;border-left: 1px solid gray;box-sizing: border-box;top: 0;bottom: 0;left: 50%;z-index: -1;}#sk-container-id-1 div.sk-parallel-item {display: flex;flex-direction: column;z-index: 1;position: relative;background-color: white;}#sk-container-id-1 div.sk-parallel-item:first-child::after {align-self: flex-end;width: 50%;}#sk-container-id-1 div.sk-parallel-item:last-child::after {align-self: flex-start;width: 50%;}#sk-container-id-1 div.sk-parallel-item:only-child::after {width: 0;}#sk-container-id-1 div.sk-dashed-wrapped {border: 1px dashed gray;margin: 0 0.4em 0.5em 0.4em;box-sizing: border-box;padding-bottom: 0.4em;background-color: white;}#sk-container-id-1 div.sk-label label {font-family: monospace;font-weight: bold;display: inline-block;line-height: 1.2em;}#sk-container-id-1 div.sk-label-container {text-align: center;}#sk-container-id-1 div.sk-container {/* jupyter's `normalize.less` sets `[hidden] { display: none; }` but bootstrap.min.css set `[hidden] { display: none !important; }` so we also need the `!important` here to be able to override the default hidden behavior on the sphinx rendered scikit-learn.org. See: https://github.com/scikit-learn/scikit-learn/issues/21755 */display: inline-block !important;position: relative;}#sk-container-id-1 div.sk-text-repr-fallback {display: none;}</style><div id=\"sk-container-id-1\" class=\"sk-top-container\"><div class=\"sk-text-repr-fallback\"><pre>RandomForestClassifier(criterion=&#x27;entropy&#x27;, max_depth=7, n_estimators=300,\n",
       "                       random_state=1)</pre><b>In a Jupyter environment, please rerun this cell to show the HTML representation or trust the notebook. <br />On GitHub, the HTML representation is unable to render, please try loading this page with nbviewer.org.</b></div><div class=\"sk-container\" hidden><div class=\"sk-item\"><div class=\"sk-estimator sk-toggleable\"><input class=\"sk-toggleable__control sk-hidden--visually\" id=\"sk-estimator-id-1\" type=\"checkbox\" checked><label for=\"sk-estimator-id-1\" class=\"sk-toggleable__label sk-toggleable__label-arrow\">RandomForestClassifier</label><div class=\"sk-toggleable__content\"><pre>RandomForestClassifier(criterion=&#x27;entropy&#x27;, max_depth=7, n_estimators=300,\n",
       "                       random_state=1)</pre></div></div></div></div></div>"
      ],
      "text/plain": [
       "RandomForestClassifier(criterion='entropy', max_depth=7, n_estimators=300,\n",
       "                       random_state=1)"
      ]
     },
     "execution_count": 69,
     "metadata": {},
     "output_type": "execute_result"
    }
   ],
   "source": [
    "y = train_data[\"Survived\"]\n",
    "\n",
    "features = [\"Pclass\", \"Sex\", \"SibSp\", \"Parch\", \"Embarked\"]\n",
    "X = pd.get_dummies(train_data[features])\n",
    "X_test = pd.get_dummies(test[features])\n",
    "\n",
    "model_simple = RandomForestClassifier(n_estimators=300, max_depth=7, random_state=1, criterion='entropy')\n",
    "model_simple.fit(X, y)\n",
    "# predictions = model.predict(X_test)\n",
    "\n",
    "# output = pd.DataFrame({'PassengerId': test.PassengerId, 'Survived': predictions})\n",
    "# output.to_csv('random_forest_submission.csv', index=False)\n",
    "# print(\"Your submission was successfully saved!\")"
   ]
  },
  {
   "cell_type": "code",
   "execution_count": 70,
   "id": "e40074ee-4298-42d5-8982-2daef44625c2",
   "metadata": {},
   "outputs": [
    {
     "data": {
      "text/html": [
       "<style>#sk-container-id-2 {color: black;background-color: white;}#sk-container-id-2 pre{padding: 0;}#sk-container-id-2 div.sk-toggleable {background-color: white;}#sk-container-id-2 label.sk-toggleable__label {cursor: pointer;display: block;width: 100%;margin-bottom: 0;padding: 0.3em;box-sizing: border-box;text-align: center;}#sk-container-id-2 label.sk-toggleable__label-arrow:before {content: \"▸\";float: left;margin-right: 0.25em;color: #696969;}#sk-container-id-2 label.sk-toggleable__label-arrow:hover:before {color: black;}#sk-container-id-2 div.sk-estimator:hover label.sk-toggleable__label-arrow:before {color: black;}#sk-container-id-2 div.sk-toggleable__content {max-height: 0;max-width: 0;overflow: hidden;text-align: left;background-color: #f0f8ff;}#sk-container-id-2 div.sk-toggleable__content pre {margin: 0.2em;color: black;border-radius: 0.25em;background-color: #f0f8ff;}#sk-container-id-2 input.sk-toggleable__control:checked~div.sk-toggleable__content {max-height: 200px;max-width: 100%;overflow: auto;}#sk-container-id-2 input.sk-toggleable__control:checked~label.sk-toggleable__label-arrow:before {content: \"▾\";}#sk-container-id-2 div.sk-estimator input.sk-toggleable__control:checked~label.sk-toggleable__label {background-color: #d4ebff;}#sk-container-id-2 div.sk-label input.sk-toggleable__control:checked~label.sk-toggleable__label {background-color: #d4ebff;}#sk-container-id-2 input.sk-hidden--visually {border: 0;clip: rect(1px 1px 1px 1px);clip: rect(1px, 1px, 1px, 1px);height: 1px;margin: -1px;overflow: hidden;padding: 0;position: absolute;width: 1px;}#sk-container-id-2 div.sk-estimator {font-family: monospace;background-color: #f0f8ff;border: 1px dotted black;border-radius: 0.25em;box-sizing: border-box;margin-bottom: 0.5em;}#sk-container-id-2 div.sk-estimator:hover {background-color: #d4ebff;}#sk-container-id-2 div.sk-parallel-item::after {content: \"\";width: 100%;border-bottom: 1px solid gray;flex-grow: 1;}#sk-container-id-2 div.sk-label:hover label.sk-toggleable__label {background-color: #d4ebff;}#sk-container-id-2 div.sk-serial::before {content: \"\";position: absolute;border-left: 1px solid gray;box-sizing: border-box;top: 0;bottom: 0;left: 50%;z-index: 0;}#sk-container-id-2 div.sk-serial {display: flex;flex-direction: column;align-items: center;background-color: white;padding-right: 0.2em;padding-left: 0.2em;position: relative;}#sk-container-id-2 div.sk-item {position: relative;z-index: 1;}#sk-container-id-2 div.sk-parallel {display: flex;align-items: stretch;justify-content: center;background-color: white;position: relative;}#sk-container-id-2 div.sk-item::before, #sk-container-id-2 div.sk-parallel-item::before {content: \"\";position: absolute;border-left: 1px solid gray;box-sizing: border-box;top: 0;bottom: 0;left: 50%;z-index: -1;}#sk-container-id-2 div.sk-parallel-item {display: flex;flex-direction: column;z-index: 1;position: relative;background-color: white;}#sk-container-id-2 div.sk-parallel-item:first-child::after {align-self: flex-end;width: 50%;}#sk-container-id-2 div.sk-parallel-item:last-child::after {align-self: flex-start;width: 50%;}#sk-container-id-2 div.sk-parallel-item:only-child::after {width: 0;}#sk-container-id-2 div.sk-dashed-wrapped {border: 1px dashed gray;margin: 0 0.4em 0.5em 0.4em;box-sizing: border-box;padding-bottom: 0.4em;background-color: white;}#sk-container-id-2 div.sk-label label {font-family: monospace;font-weight: bold;display: inline-block;line-height: 1.2em;}#sk-container-id-2 div.sk-label-container {text-align: center;}#sk-container-id-2 div.sk-container {/* jupyter's `normalize.less` sets `[hidden] { display: none; }` but bootstrap.min.css set `[hidden] { display: none !important; }` so we also need the `!important` here to be able to override the default hidden behavior on the sphinx rendered scikit-learn.org. See: https://github.com/scikit-learn/scikit-learn/issues/21755 */display: inline-block !important;position: relative;}#sk-container-id-2 div.sk-text-repr-fallback {display: none;}</style><div id=\"sk-container-id-2\" class=\"sk-top-container\"><div class=\"sk-text-repr-fallback\"><pre>RandomForestClassifier(criterion=&#x27;entropy&#x27;, max_depth=7, n_estimators=300,\n",
       "                       random_state=1)</pre><b>In a Jupyter environment, please rerun this cell to show the HTML representation or trust the notebook. <br />On GitHub, the HTML representation is unable to render, please try loading this page with nbviewer.org.</b></div><div class=\"sk-container\" hidden><div class=\"sk-item\"><div class=\"sk-estimator sk-toggleable\"><input class=\"sk-toggleable__control sk-hidden--visually\" id=\"sk-estimator-id-2\" type=\"checkbox\" checked><label for=\"sk-estimator-id-2\" class=\"sk-toggleable__label sk-toggleable__label-arrow\">RandomForestClassifier</label><div class=\"sk-toggleable__content\"><pre>RandomForestClassifier(criterion=&#x27;entropy&#x27;, max_depth=7, n_estimators=300,\n",
       "                       random_state=1)</pre></div></div></div></div></div>"
      ],
      "text/plain": [
       "RandomForestClassifier(criterion='entropy', max_depth=7, n_estimators=300,\n",
       "                       random_state=1)"
      ]
     },
     "execution_count": 70,
     "metadata": {},
     "output_type": "execute_result"
    }
   ],
   "source": [
    "y = train_data[\"Survived\"]\n",
    "\n",
    "features = [\"Pclass\", \"Sex\", \"SibSp\", \"Parch\", \"Fare\", \"Embarked\"]\n",
    "X = pd.get_dummies(train_data[features])\n",
    "\n",
    "model_fare = RandomForestClassifier(n_estimators=300, max_depth=7, random_state=1, criterion='entropy')\n",
    "model_fare.fit(X, y)"
   ]
  },
  {
   "cell_type": "code",
   "execution_count": 71,
   "id": "5229afd6-ce15-4c2b-80a9-e7796357af3e",
   "metadata": {},
   "outputs": [
    {
     "data": {
      "text/html": [
       "<style>#sk-container-id-3 {color: black;background-color: white;}#sk-container-id-3 pre{padding: 0;}#sk-container-id-3 div.sk-toggleable {background-color: white;}#sk-container-id-3 label.sk-toggleable__label {cursor: pointer;display: block;width: 100%;margin-bottom: 0;padding: 0.3em;box-sizing: border-box;text-align: center;}#sk-container-id-3 label.sk-toggleable__label-arrow:before {content: \"▸\";float: left;margin-right: 0.25em;color: #696969;}#sk-container-id-3 label.sk-toggleable__label-arrow:hover:before {color: black;}#sk-container-id-3 div.sk-estimator:hover label.sk-toggleable__label-arrow:before {color: black;}#sk-container-id-3 div.sk-toggleable__content {max-height: 0;max-width: 0;overflow: hidden;text-align: left;background-color: #f0f8ff;}#sk-container-id-3 div.sk-toggleable__content pre {margin: 0.2em;color: black;border-radius: 0.25em;background-color: #f0f8ff;}#sk-container-id-3 input.sk-toggleable__control:checked~div.sk-toggleable__content {max-height: 200px;max-width: 100%;overflow: auto;}#sk-container-id-3 input.sk-toggleable__control:checked~label.sk-toggleable__label-arrow:before {content: \"▾\";}#sk-container-id-3 div.sk-estimator input.sk-toggleable__control:checked~label.sk-toggleable__label {background-color: #d4ebff;}#sk-container-id-3 div.sk-label input.sk-toggleable__control:checked~label.sk-toggleable__label {background-color: #d4ebff;}#sk-container-id-3 input.sk-hidden--visually {border: 0;clip: rect(1px 1px 1px 1px);clip: rect(1px, 1px, 1px, 1px);height: 1px;margin: -1px;overflow: hidden;padding: 0;position: absolute;width: 1px;}#sk-container-id-3 div.sk-estimator {font-family: monospace;background-color: #f0f8ff;border: 1px dotted black;border-radius: 0.25em;box-sizing: border-box;margin-bottom: 0.5em;}#sk-container-id-3 div.sk-estimator:hover {background-color: #d4ebff;}#sk-container-id-3 div.sk-parallel-item::after {content: \"\";width: 100%;border-bottom: 1px solid gray;flex-grow: 1;}#sk-container-id-3 div.sk-label:hover label.sk-toggleable__label {background-color: #d4ebff;}#sk-container-id-3 div.sk-serial::before {content: \"\";position: absolute;border-left: 1px solid gray;box-sizing: border-box;top: 0;bottom: 0;left: 50%;z-index: 0;}#sk-container-id-3 div.sk-serial {display: flex;flex-direction: column;align-items: center;background-color: white;padding-right: 0.2em;padding-left: 0.2em;position: relative;}#sk-container-id-3 div.sk-item {position: relative;z-index: 1;}#sk-container-id-3 div.sk-parallel {display: flex;align-items: stretch;justify-content: center;background-color: white;position: relative;}#sk-container-id-3 div.sk-item::before, #sk-container-id-3 div.sk-parallel-item::before {content: \"\";position: absolute;border-left: 1px solid gray;box-sizing: border-box;top: 0;bottom: 0;left: 50%;z-index: -1;}#sk-container-id-3 div.sk-parallel-item {display: flex;flex-direction: column;z-index: 1;position: relative;background-color: white;}#sk-container-id-3 div.sk-parallel-item:first-child::after {align-self: flex-end;width: 50%;}#sk-container-id-3 div.sk-parallel-item:last-child::after {align-self: flex-start;width: 50%;}#sk-container-id-3 div.sk-parallel-item:only-child::after {width: 0;}#sk-container-id-3 div.sk-dashed-wrapped {border: 1px dashed gray;margin: 0 0.4em 0.5em 0.4em;box-sizing: border-box;padding-bottom: 0.4em;background-color: white;}#sk-container-id-3 div.sk-label label {font-family: monospace;font-weight: bold;display: inline-block;line-height: 1.2em;}#sk-container-id-3 div.sk-label-container {text-align: center;}#sk-container-id-3 div.sk-container {/* jupyter's `normalize.less` sets `[hidden] { display: none; }` but bootstrap.min.css set `[hidden] { display: none !important; }` so we also need the `!important` here to be able to override the default hidden behavior on the sphinx rendered scikit-learn.org. See: https://github.com/scikit-learn/scikit-learn/issues/21755 */display: inline-block !important;position: relative;}#sk-container-id-3 div.sk-text-repr-fallback {display: none;}</style><div id=\"sk-container-id-3\" class=\"sk-top-container\"><div class=\"sk-text-repr-fallback\"><pre>RandomForestClassifier(criterion=&#x27;entropy&#x27;, max_depth=7, n_estimators=300,\n",
       "                       random_state=1)</pre><b>In a Jupyter environment, please rerun this cell to show the HTML representation or trust the notebook. <br />On GitHub, the HTML representation is unable to render, please try loading this page with nbviewer.org.</b></div><div class=\"sk-container\" hidden><div class=\"sk-item\"><div class=\"sk-estimator sk-toggleable\"><input class=\"sk-toggleable__control sk-hidden--visually\" id=\"sk-estimator-id-3\" type=\"checkbox\" checked><label for=\"sk-estimator-id-3\" class=\"sk-toggleable__label sk-toggleable__label-arrow\">RandomForestClassifier</label><div class=\"sk-toggleable__content\"><pre>RandomForestClassifier(criterion=&#x27;entropy&#x27;, max_depth=7, n_estimators=300,\n",
       "                       random_state=1)</pre></div></div></div></div></div>"
      ],
      "text/plain": [
       "RandomForestClassifier(criterion='entropy', max_depth=7, n_estimators=300,\n",
       "                       random_state=1)"
      ]
     },
     "execution_count": 71,
     "metadata": {},
     "output_type": "execute_result"
    }
   ],
   "source": [
    "features = [\"Pclass\", \"Sex\", \"SibSp\", \"Parch\", \"Fare\", \"Age\", \"Embarked\"]\n",
    "train_data_no_miss = train_data.loc[pd.notna(train_data[\"Age\"])]\n",
    "y = train_data_no_miss[\"Survived\"]\n",
    "X= pd.get_dummies(train_data_no_miss[features])\n",
    "model_fare_age =  RandomForestClassifier(n_estimators=300, max_depth=7, random_state=1, criterion='entropy')\n",
    "model_fare_age.fit(X, y)"
   ]
  },
  {
   "cell_type": "code",
   "execution_count": 72,
   "id": "54148ec3-aa29-457a-9e39-10a48e2e6c5f",
   "metadata": {},
   "outputs": [],
   "source": [
    "test['Embarked'] = test['Embarked'].map({'S':0, 'C':1, 'Q':2})"
   ]
  },
  {
   "cell_type": "code",
   "execution_count": 73,
   "id": "d90f0a71-cc97-4e14-ab08-c46ea9eabece",
   "metadata": {},
   "outputs": [],
   "source": [
    "X_simple = pd.get_dummies(test[[\"Pclass\", \"Sex\", \"SibSp\", \"Parch\", 'Embarked']])\n",
    "test_fare = test.loc[pd.notna(test[\"Fare\"])]\n",
    "X_fare = pd.get_dummies(test_fare[[\"Pclass\", \"Sex\", \"SibSp\", \"Parch\", \"Fare\", 'Embarked']])\n",
    "test_fare_age = test_fare.loc[pd.notna(test_fare[\"Age\"])]\n",
    "X_fare_age = pd.get_dummies(test_fare_age[[\"Pclass\", \"Sex\", \"SibSp\", \"Parch\", \"Fare\", \"Age\", 'Embarked']])"
   ]
  },
  {
   "cell_type": "code",
   "execution_count": 74,
   "id": "59c93ae3-9538-45d9-8182-4beb2b6d140d",
   "metadata": {},
   "outputs": [],
   "source": [
    "predictions_simple = model_simple.predict(X_simple)\n",
    "output_simple = pd.DataFrame({'PassengerId': test.PassengerId, 'Survived': predictions_simple})"
   ]
  },
  {
   "cell_type": "code",
   "execution_count": 75,
   "id": "14d2a05e-fa48-484a-80a7-324d8a75fcd1",
   "metadata": {},
   "outputs": [],
   "source": [
    "predictions_fare = model_fare.predict(X_fare)\n",
    "output_fare = pd.DataFrame({'PassengerId': test_fare.PassengerId, 'Survived': predictions_fare})"
   ]
  },
  {
   "cell_type": "code",
   "execution_count": 76,
   "id": "48b8d1fd-f225-4ed3-a802-ba621c64c906",
   "metadata": {},
   "outputs": [],
   "source": [
    "predictions_fare_age = model_fare_age.predict(X_fare_age)\n",
    "output_fare_age = pd.DataFrame({'PassengerId': test_fare_age.PassengerId, 'Survived': predictions_fare_age})"
   ]
  },
  {
   "cell_type": "code",
   "execution_count": 77,
   "id": "1cdc0ecf-3b6f-496e-a131-93d8f2b73fd7",
   "metadata": {},
   "outputs": [
    {
     "data": {
      "text/html": [
       "<div>\n",
       "<style scoped>\n",
       "    .dataframe tbody tr th:only-of-type {\n",
       "        vertical-align: middle;\n",
       "    }\n",
       "\n",
       "    .dataframe tbody tr th {\n",
       "        vertical-align: top;\n",
       "    }\n",
       "\n",
       "    .dataframe thead th {\n",
       "        text-align: right;\n",
       "    }\n",
       "</style>\n",
       "<table border=\"1\" class=\"dataframe\">\n",
       "  <thead>\n",
       "    <tr style=\"text-align: right;\">\n",
       "      <th></th>\n",
       "      <th>PassengerId</th>\n",
       "      <th>Survived_simple</th>\n",
       "      <th>Survived_fare</th>\n",
       "    </tr>\n",
       "  </thead>\n",
       "  <tbody>\n",
       "    <tr>\n",
       "      <th>1</th>\n",
       "      <td>893</td>\n",
       "      <td>0</td>\n",
       "      <td>1.0</td>\n",
       "    </tr>\n",
       "    <tr>\n",
       "      <th>7</th>\n",
       "      <td>899</td>\n",
       "      <td>1</td>\n",
       "      <td>0.0</td>\n",
       "    </tr>\n",
       "    <tr>\n",
       "      <th>32</th>\n",
       "      <td>924</td>\n",
       "      <td>0</td>\n",
       "      <td>1.0</td>\n",
       "    </tr>\n",
       "    <tr>\n",
       "      <th>89</th>\n",
       "      <td>981</td>\n",
       "      <td>1</td>\n",
       "      <td>0.0</td>\n",
       "    </tr>\n",
       "    <tr>\n",
       "      <th>104</th>\n",
       "      <td>996</td>\n",
       "      <td>1</td>\n",
       "      <td>0.0</td>\n",
       "    </tr>\n",
       "    <tr>\n",
       "      <th>149</th>\n",
       "      <td>1041</td>\n",
       "      <td>1</td>\n",
       "      <td>0.0</td>\n",
       "    </tr>\n",
       "    <tr>\n",
       "      <th>152</th>\n",
       "      <td>1044</td>\n",
       "      <td>0</td>\n",
       "      <td>NaN</td>\n",
       "    </tr>\n",
       "    <tr>\n",
       "      <th>202</th>\n",
       "      <td>1094</td>\n",
       "      <td>1</td>\n",
       "      <td>0.0</td>\n",
       "    </tr>\n",
       "    <tr>\n",
       "      <th>214</th>\n",
       "      <td>1106</td>\n",
       "      <td>0</td>\n",
       "      <td>1.0</td>\n",
       "    </tr>\n",
       "    <tr>\n",
       "      <th>247</th>\n",
       "      <td>1139</td>\n",
       "      <td>1</td>\n",
       "      <td>0.0</td>\n",
       "    </tr>\n",
       "    <tr>\n",
       "      <th>249</th>\n",
       "      <td>1141</td>\n",
       "      <td>1</td>\n",
       "      <td>0.0</td>\n",
       "    </tr>\n",
       "    <tr>\n",
       "      <th>252</th>\n",
       "      <td>1144</td>\n",
       "      <td>1</td>\n",
       "      <td>0.0</td>\n",
       "    </tr>\n",
       "    <tr>\n",
       "      <th>283</th>\n",
       "      <td>1175</td>\n",
       "      <td>1</td>\n",
       "      <td>0.0</td>\n",
       "    </tr>\n",
       "    <tr>\n",
       "      <th>291</th>\n",
       "      <td>1183</td>\n",
       "      <td>1</td>\n",
       "      <td>0.0</td>\n",
       "    </tr>\n",
       "    <tr>\n",
       "      <th>316</th>\n",
       "      <td>1208</td>\n",
       "      <td>1</td>\n",
       "      <td>0.0</td>\n",
       "    </tr>\n",
       "    <tr>\n",
       "      <th>337</th>\n",
       "      <td>1229</td>\n",
       "      <td>1</td>\n",
       "      <td>0.0</td>\n",
       "    </tr>\n",
       "    <tr>\n",
       "      <th>345</th>\n",
       "      <td>1237</td>\n",
       "      <td>0</td>\n",
       "      <td>1.0</td>\n",
       "    </tr>\n",
       "    <tr>\n",
       "      <th>354</th>\n",
       "      <td>1246</td>\n",
       "      <td>0</td>\n",
       "      <td>1.0</td>\n",
       "    </tr>\n",
       "    <tr>\n",
       "      <th>359</th>\n",
       "      <td>1251</td>\n",
       "      <td>0</td>\n",
       "      <td>1.0</td>\n",
       "    </tr>\n",
       "    <tr>\n",
       "      <th>382</th>\n",
       "      <td>1274</td>\n",
       "      <td>0</td>\n",
       "      <td>1.0</td>\n",
       "    </tr>\n",
       "    <tr>\n",
       "      <th>383</th>\n",
       "      <td>1275</td>\n",
       "      <td>0</td>\n",
       "      <td>1.0</td>\n",
       "    </tr>\n",
       "    <tr>\n",
       "      <th>404</th>\n",
       "      <td>1296</td>\n",
       "      <td>1</td>\n",
       "      <td>0.0</td>\n",
       "    </tr>\n",
       "    <tr>\n",
       "      <th>417</th>\n",
       "      <td>1309</td>\n",
       "      <td>1</td>\n",
       "      <td>0.0</td>\n",
       "    </tr>\n",
       "  </tbody>\n",
       "</table>\n",
       "</div>"
      ],
      "text/plain": [
       "     PassengerId  Survived_simple  Survived_fare\n",
       "1            893                0            1.0\n",
       "7            899                1            0.0\n",
       "32           924                0            1.0\n",
       "89           981                1            0.0\n",
       "104          996                1            0.0\n",
       "149         1041                1            0.0\n",
       "152         1044                0            NaN\n",
       "202         1094                1            0.0\n",
       "214         1106                0            1.0\n",
       "247         1139                1            0.0\n",
       "249         1141                1            0.0\n",
       "252         1144                1            0.0\n",
       "283         1175                1            0.0\n",
       "291         1183                1            0.0\n",
       "316         1208                1            0.0\n",
       "337         1229                1            0.0\n",
       "345         1237                0            1.0\n",
       "354         1246                0            1.0\n",
       "359         1251                0            1.0\n",
       "382         1274                0            1.0\n",
       "383         1275                0            1.0\n",
       "404         1296                1            0.0\n",
       "417         1309                1            0.0"
      ]
     },
     "execution_count": 77,
     "metadata": {},
     "output_type": "execute_result"
    }
   ],
   "source": [
    "df = output_simple.merge(output_fare, on=[\"PassengerId\"], how='left', suffixes=('_simple', '_fare'))\n",
    "df.loc[df[\"Survived_simple\"] != df[\"Survived_fare\"]]"
   ]
  },
  {
   "cell_type": "code",
   "execution_count": 78,
   "id": "70c9cbbf-c688-4a7f-b613-b987abc43c11",
   "metadata": {},
   "outputs": [],
   "source": [
    "df = df.merge(output_fare_age, on=[\"PassengerId\"], how='left')"
   ]
  },
  {
   "cell_type": "code",
   "execution_count": 79,
   "id": "95c1e76d-bff3-4149-a342-819251f1645b",
   "metadata": {},
   "outputs": [
    {
     "data": {
      "text/html": [
       "<div>\n",
       "<style scoped>\n",
       "    .dataframe tbody tr th:only-of-type {\n",
       "        vertical-align: middle;\n",
       "    }\n",
       "\n",
       "    .dataframe tbody tr th {\n",
       "        vertical-align: top;\n",
       "    }\n",
       "\n",
       "    .dataframe thead th {\n",
       "        text-align: right;\n",
       "    }\n",
       "</style>\n",
       "<table border=\"1\" class=\"dataframe\">\n",
       "  <thead>\n",
       "    <tr style=\"text-align: right;\">\n",
       "      <th></th>\n",
       "      <th>PassengerId</th>\n",
       "      <th>Survived_simple</th>\n",
       "      <th>Survived_fare</th>\n",
       "      <th>Survived</th>\n",
       "    </tr>\n",
       "  </thead>\n",
       "  <tbody>\n",
       "    <tr>\n",
       "      <th>0</th>\n",
       "      <td>892</td>\n",
       "      <td>0</td>\n",
       "      <td>0.0</td>\n",
       "      <td>0.0</td>\n",
       "    </tr>\n",
       "    <tr>\n",
       "      <th>1</th>\n",
       "      <td>893</td>\n",
       "      <td>0</td>\n",
       "      <td>1.0</td>\n",
       "      <td>0.0</td>\n",
       "    </tr>\n",
       "    <tr>\n",
       "      <th>2</th>\n",
       "      <td>894</td>\n",
       "      <td>0</td>\n",
       "      <td>0.0</td>\n",
       "      <td>0.0</td>\n",
       "    </tr>\n",
       "    <tr>\n",
       "      <th>3</th>\n",
       "      <td>895</td>\n",
       "      <td>0</td>\n",
       "      <td>0.0</td>\n",
       "      <td>0.0</td>\n",
       "    </tr>\n",
       "    <tr>\n",
       "      <th>4</th>\n",
       "      <td>896</td>\n",
       "      <td>1</td>\n",
       "      <td>1.0</td>\n",
       "      <td>1.0</td>\n",
       "    </tr>\n",
       "    <tr>\n",
       "      <th>...</th>\n",
       "      <td>...</td>\n",
       "      <td>...</td>\n",
       "      <td>...</td>\n",
       "      <td>...</td>\n",
       "    </tr>\n",
       "    <tr>\n",
       "      <th>413</th>\n",
       "      <td>1305</td>\n",
       "      <td>0</td>\n",
       "      <td>0.0</td>\n",
       "      <td>NaN</td>\n",
       "    </tr>\n",
       "    <tr>\n",
       "      <th>414</th>\n",
       "      <td>1306</td>\n",
       "      <td>1</td>\n",
       "      <td>1.0</td>\n",
       "      <td>1.0</td>\n",
       "    </tr>\n",
       "    <tr>\n",
       "      <th>415</th>\n",
       "      <td>1307</td>\n",
       "      <td>0</td>\n",
       "      <td>0.0</td>\n",
       "      <td>0.0</td>\n",
       "    </tr>\n",
       "    <tr>\n",
       "      <th>416</th>\n",
       "      <td>1308</td>\n",
       "      <td>0</td>\n",
       "      <td>0.0</td>\n",
       "      <td>NaN</td>\n",
       "    </tr>\n",
       "    <tr>\n",
       "      <th>417</th>\n",
       "      <td>1309</td>\n",
       "      <td>1</td>\n",
       "      <td>0.0</td>\n",
       "      <td>NaN</td>\n",
       "    </tr>\n",
       "  </tbody>\n",
       "</table>\n",
       "<p>418 rows × 4 columns</p>\n",
       "</div>"
      ],
      "text/plain": [
       "     PassengerId  Survived_simple  Survived_fare  Survived\n",
       "0            892                0            0.0       0.0\n",
       "1            893                0            1.0       0.0\n",
       "2            894                0            0.0       0.0\n",
       "3            895                0            0.0       0.0\n",
       "4            896                1            1.0       1.0\n",
       "..           ...              ...            ...       ...\n",
       "413         1305                0            0.0       NaN\n",
       "414         1306                1            1.0       1.0\n",
       "415         1307                0            0.0       0.0\n",
       "416         1308                0            0.0       NaN\n",
       "417         1309                1            0.0       NaN\n",
       "\n",
       "[418 rows x 4 columns]"
      ]
     },
     "execution_count": 79,
     "metadata": {},
     "output_type": "execute_result"
    }
   ],
   "source": [
    "df"
   ]
  },
  {
   "cell_type": "code",
   "execution_count": 80,
   "id": "f4278860-84e6-4a20-85a0-3a1770d81c24",
   "metadata": {},
   "outputs": [],
   "source": [
    "index = df.loc[pd.isna(df[\"Survived\"])][\"Survived\"].index"
   ]
  },
  {
   "cell_type": "code",
   "execution_count": 81,
   "id": "3eeee730-3a15-4f6c-a24f-16eac4b270ab",
   "metadata": {},
   "outputs": [],
   "source": [
    "df.loc[index, \"Survived\"] = df.loc[pd.isna(df[\"Survived\"])][\"Survived_fare\"]"
   ]
  },
  {
   "cell_type": "code",
   "execution_count": 82,
   "id": "4c68ff75-a5b4-4c53-ad96-de0303504b63",
   "metadata": {},
   "outputs": [],
   "source": [
    "df.loc[152, \"Survived\"] = 0"
   ]
  },
  {
   "cell_type": "code",
   "execution_count": 83,
   "id": "56dfebb1-374c-4cc0-b535-c74d92a66505",
   "metadata": {},
   "outputs": [
    {
     "name": "stderr",
     "output_type": "stream",
     "text": [
      "C:\\Users\\xiyao\\AppData\\Local\\Temp\\ipykernel_4228\\427709340.py:2: SettingWithCopyWarning: \n",
      "A value is trying to be set on a copy of a slice from a DataFrame.\n",
      "Try using .loc[row_indexer,col_indexer] = value instead\n",
      "\n",
      "See the caveats in the documentation: https://pandas.pydata.org/pandas-docs/stable/user_guide/indexing.html#returning-a-view-versus-a-copy\n",
      "  df_result[\"Survived\"] = df_result[\"Survived\"].astype(int)\n"
     ]
    }
   ],
   "source": [
    "df_result = df[[\"PassengerId\", \"Survived\"]]\n",
    "df_result[\"Survived\"] = df_result[\"Survived\"].astype(int)"
   ]
  },
  {
   "cell_type": "code",
   "execution_count": 84,
   "id": "03d227f7-4920-40f6-a557-6e22515924a0",
   "metadata": {},
   "outputs": [
    {
     "data": {
      "text/plain": [
       "PassengerId    int64\n",
       "Survived       int32\n",
       "dtype: object"
      ]
     },
     "execution_count": 84,
     "metadata": {},
     "output_type": "execute_result"
    }
   ],
   "source": [
    "df_result.dtypes"
   ]
  },
  {
   "cell_type": "code",
   "execution_count": 85,
   "id": "e89e2c2b-693f-43eb-bf61-2f79c399a142",
   "metadata": {},
   "outputs": [],
   "source": [
    "df_result.to_csv(\"my_result_more_depth.csv\", index=False)"
   ]
  },
  {
   "cell_type": "markdown",
   "id": "c8a9ba33-fbdb-4776-b0f7-d322edd9ae09",
   "metadata": {},
   "source": [
    "## Imputation of raw data"
   ]
  },
  {
   "cell_type": "code",
   "execution_count": 108,
   "id": "5efe4bca-07b4-48d1-9616-5b7de3e83594",
   "metadata": {},
   "outputs": [
    {
     "data": {
      "text/html": [
       "<div>\n",
       "<style scoped>\n",
       "    .dataframe tbody tr th:only-of-type {\n",
       "        vertical-align: middle;\n",
       "    }\n",
       "\n",
       "    .dataframe tbody tr th {\n",
       "        vertical-align: top;\n",
       "    }\n",
       "\n",
       "    .dataframe thead th {\n",
       "        text-align: right;\n",
       "    }\n",
       "</style>\n",
       "<table border=\"1\" class=\"dataframe\">\n",
       "  <thead>\n",
       "    <tr style=\"text-align: right;\">\n",
       "      <th></th>\n",
       "      <th>Total</th>\n",
       "      <th>%</th>\n",
       "    </tr>\n",
       "  </thead>\n",
       "  <tbody>\n",
       "    <tr>\n",
       "      <th>Cabin</th>\n",
       "      <td>687</td>\n",
       "      <td>77.1</td>\n",
       "    </tr>\n",
       "    <tr>\n",
       "      <th>Age</th>\n",
       "      <td>177</td>\n",
       "      <td>19.9</td>\n",
       "    </tr>\n",
       "    <tr>\n",
       "      <th>Embarked</th>\n",
       "      <td>2</td>\n",
       "      <td>0.2</td>\n",
       "    </tr>\n",
       "    <tr>\n",
       "      <th>PassengerId</th>\n",
       "      <td>0</td>\n",
       "      <td>0.0</td>\n",
       "    </tr>\n",
       "    <tr>\n",
       "      <th>Survived</th>\n",
       "      <td>0</td>\n",
       "      <td>0.0</td>\n",
       "    </tr>\n",
       "  </tbody>\n",
       "</table>\n",
       "</div>"
      ],
      "text/plain": [
       "             Total     %\n",
       "Cabin          687  77.1\n",
       "Age            177  19.9\n",
       "Embarked         2   0.2\n",
       "PassengerId      0   0.0\n",
       "Survived         0   0.0"
      ]
     },
     "execution_count": 108,
     "metadata": {},
     "output_type": "execute_result"
    }
   ],
   "source": [
    "train_data = pd.read_csv('train.csv')\n",
    "test_data = pd.read_csv('test.csv')\n",
    "\n",
    "total = train_data.isnull().sum().sort_values(ascending=False)\n",
    "percent_1 = train_data.isnull().sum()/train_data.isnull().count()*100\n",
    "percent_2 = (round(percent_1, 1)).sort_values(ascending=False)\n",
    "missing_data = pd.concat([total, percent_2], axis=1, keys=['Total', '%'])\n",
    "missing_data.head(5)"
   ]
  },
  {
   "cell_type": "markdown",
   "id": "20b33b07-1b68-43ec-b20c-8e72caa4e69f",
   "metadata": {},
   "source": [
    "### For cabin, find deck"
   ]
  },
  {
   "cell_type": "code",
   "execution_count": 109,
   "id": "173ce8ef-f598-4472-90ac-14c92713cfb6",
   "metadata": {},
   "outputs": [],
   "source": [
    "data = [train_data, test_data]\n",
    "import re\n",
    "deck = {\"A\": 1, \"B\": 2, \"C\": 3, \"D\": 4, \"E\": 5, \"F\": 6, \"G\": 7, \"U\": 8}\n",
    "\n",
    "\n",
    "for dataset in data:\n",
    "    dataset['Cabin'] = dataset['Cabin'].fillna(\"U0\")\n",
    "    dataset['Deck'] = dataset['Cabin'].map(lambda x: re.compile(\"([a-zA-Z]+)\").search(x).group())\n",
    "    dataset['Deck'] = dataset['Deck'].map(deck)\n",
    "    dataset['Deck'] = dataset['Deck'].fillna(0)\n",
    "    dataset['Deck'] = dataset['Deck'].astype(int)\n",
    "    \n",
    "# We can now drop the cabin feature\n",
    "train_data = train_data.drop(['Cabin'], axis=1)\n",
    "test_data = test_data.drop(['Cabin'], axis=1)\n"
   ]
  },
  {
   "cell_type": "code",
   "execution_count": 110,
   "id": "8ea4fd74-0ed3-4574-8ded-4c78c620568b",
   "metadata": {},
   "outputs": [
    {
     "data": {
      "text/html": [
       "<div>\n",
       "<style scoped>\n",
       "    .dataframe tbody tr th:only-of-type {\n",
       "        vertical-align: middle;\n",
       "    }\n",
       "\n",
       "    .dataframe tbody tr th {\n",
       "        vertical-align: top;\n",
       "    }\n",
       "\n",
       "    .dataframe thead th {\n",
       "        text-align: right;\n",
       "    }\n",
       "</style>\n",
       "<table border=\"1\" class=\"dataframe\">\n",
       "  <thead>\n",
       "    <tr style=\"text-align: right;\">\n",
       "      <th></th>\n",
       "      <th>PassengerId</th>\n",
       "      <th>Survived</th>\n",
       "      <th>Pclass</th>\n",
       "      <th>Name</th>\n",
       "      <th>Sex</th>\n",
       "      <th>Age</th>\n",
       "      <th>SibSp</th>\n",
       "      <th>Parch</th>\n",
       "      <th>Ticket</th>\n",
       "      <th>Fare</th>\n",
       "      <th>Embarked</th>\n",
       "      <th>Deck</th>\n",
       "    </tr>\n",
       "  </thead>\n",
       "  <tbody>\n",
       "    <tr>\n",
       "      <th>0</th>\n",
       "      <td>1</td>\n",
       "      <td>0</td>\n",
       "      <td>3</td>\n",
       "      <td>Braund, Mr. Owen Harris</td>\n",
       "      <td>male</td>\n",
       "      <td>22.0</td>\n",
       "      <td>1</td>\n",
       "      <td>0</td>\n",
       "      <td>A/5 21171</td>\n",
       "      <td>7.2500</td>\n",
       "      <td>S</td>\n",
       "      <td>8</td>\n",
       "    </tr>\n",
       "    <tr>\n",
       "      <th>1</th>\n",
       "      <td>2</td>\n",
       "      <td>1</td>\n",
       "      <td>1</td>\n",
       "      <td>Cumings, Mrs. John Bradley (Florence Briggs Th...</td>\n",
       "      <td>female</td>\n",
       "      <td>38.0</td>\n",
       "      <td>1</td>\n",
       "      <td>0</td>\n",
       "      <td>PC 17599</td>\n",
       "      <td>71.2833</td>\n",
       "      <td>C</td>\n",
       "      <td>3</td>\n",
       "    </tr>\n",
       "    <tr>\n",
       "      <th>2</th>\n",
       "      <td>3</td>\n",
       "      <td>1</td>\n",
       "      <td>3</td>\n",
       "      <td>Heikkinen, Miss. Laina</td>\n",
       "      <td>female</td>\n",
       "      <td>26.0</td>\n",
       "      <td>0</td>\n",
       "      <td>0</td>\n",
       "      <td>STON/O2. 3101282</td>\n",
       "      <td>7.9250</td>\n",
       "      <td>S</td>\n",
       "      <td>8</td>\n",
       "    </tr>\n",
       "    <tr>\n",
       "      <th>3</th>\n",
       "      <td>4</td>\n",
       "      <td>1</td>\n",
       "      <td>1</td>\n",
       "      <td>Futrelle, Mrs. Jacques Heath (Lily May Peel)</td>\n",
       "      <td>female</td>\n",
       "      <td>35.0</td>\n",
       "      <td>1</td>\n",
       "      <td>0</td>\n",
       "      <td>113803</td>\n",
       "      <td>53.1000</td>\n",
       "      <td>S</td>\n",
       "      <td>3</td>\n",
       "    </tr>\n",
       "    <tr>\n",
       "      <th>4</th>\n",
       "      <td>5</td>\n",
       "      <td>0</td>\n",
       "      <td>3</td>\n",
       "      <td>Allen, Mr. William Henry</td>\n",
       "      <td>male</td>\n",
       "      <td>35.0</td>\n",
       "      <td>0</td>\n",
       "      <td>0</td>\n",
       "      <td>373450</td>\n",
       "      <td>8.0500</td>\n",
       "      <td>S</td>\n",
       "      <td>8</td>\n",
       "    </tr>\n",
       "  </tbody>\n",
       "</table>\n",
       "</div>"
      ],
      "text/plain": [
       "   PassengerId  Survived  Pclass  \\\n",
       "0            1         0       3   \n",
       "1            2         1       1   \n",
       "2            3         1       3   \n",
       "3            4         1       1   \n",
       "4            5         0       3   \n",
       "\n",
       "                                                Name     Sex   Age  SibSp  \\\n",
       "0                            Braund, Mr. Owen Harris    male  22.0      1   \n",
       "1  Cumings, Mrs. John Bradley (Florence Briggs Th...  female  38.0      1   \n",
       "2                             Heikkinen, Miss. Laina  female  26.0      0   \n",
       "3       Futrelle, Mrs. Jacques Heath (Lily May Peel)  female  35.0      1   \n",
       "4                           Allen, Mr. William Henry    male  35.0      0   \n",
       "\n",
       "   Parch            Ticket     Fare Embarked  Deck  \n",
       "0      0         A/5 21171   7.2500        S     8  \n",
       "1      0          PC 17599  71.2833        C     3  \n",
       "2      0  STON/O2. 3101282   7.9250        S     8  \n",
       "3      0            113803  53.1000        S     3  \n",
       "4      0            373450   8.0500        S     8  "
      ]
     },
     "execution_count": 110,
     "metadata": {},
     "output_type": "execute_result"
    }
   ],
   "source": [
    "train_data.head()"
   ]
  },
  {
   "cell_type": "code",
   "execution_count": 111,
   "id": "2ff964e5-2167-4122-a362-7068bdee328b",
   "metadata": {},
   "outputs": [
    {
     "data": {
      "text/html": [
       "<div>\n",
       "<style scoped>\n",
       "    .dataframe tbody tr th:only-of-type {\n",
       "        vertical-align: middle;\n",
       "    }\n",
       "\n",
       "    .dataframe tbody tr th {\n",
       "        vertical-align: top;\n",
       "    }\n",
       "\n",
       "    .dataframe thead th {\n",
       "        text-align: right;\n",
       "    }\n",
       "</style>\n",
       "<table border=\"1\" class=\"dataframe\">\n",
       "  <thead>\n",
       "    <tr style=\"text-align: right;\">\n",
       "      <th></th>\n",
       "      <th>PassengerId</th>\n",
       "      <th>Pclass</th>\n",
       "      <th>Name</th>\n",
       "      <th>Sex</th>\n",
       "      <th>Age</th>\n",
       "      <th>SibSp</th>\n",
       "      <th>Parch</th>\n",
       "      <th>Ticket</th>\n",
       "      <th>Fare</th>\n",
       "      <th>Embarked</th>\n",
       "      <th>Deck</th>\n",
       "    </tr>\n",
       "  </thead>\n",
       "  <tbody>\n",
       "    <tr>\n",
       "      <th>0</th>\n",
       "      <td>892</td>\n",
       "      <td>3</td>\n",
       "      <td>Kelly, Mr. James</td>\n",
       "      <td>male</td>\n",
       "      <td>34.5</td>\n",
       "      <td>0</td>\n",
       "      <td>0</td>\n",
       "      <td>330911</td>\n",
       "      <td>7.8292</td>\n",
       "      <td>Q</td>\n",
       "      <td>8</td>\n",
       "    </tr>\n",
       "    <tr>\n",
       "      <th>1</th>\n",
       "      <td>893</td>\n",
       "      <td>3</td>\n",
       "      <td>Wilkes, Mrs. James (Ellen Needs)</td>\n",
       "      <td>female</td>\n",
       "      <td>47.0</td>\n",
       "      <td>1</td>\n",
       "      <td>0</td>\n",
       "      <td>363272</td>\n",
       "      <td>7.0000</td>\n",
       "      <td>S</td>\n",
       "      <td>8</td>\n",
       "    </tr>\n",
       "    <tr>\n",
       "      <th>2</th>\n",
       "      <td>894</td>\n",
       "      <td>2</td>\n",
       "      <td>Myles, Mr. Thomas Francis</td>\n",
       "      <td>male</td>\n",
       "      <td>62.0</td>\n",
       "      <td>0</td>\n",
       "      <td>0</td>\n",
       "      <td>240276</td>\n",
       "      <td>9.6875</td>\n",
       "      <td>Q</td>\n",
       "      <td>8</td>\n",
       "    </tr>\n",
       "    <tr>\n",
       "      <th>3</th>\n",
       "      <td>895</td>\n",
       "      <td>3</td>\n",
       "      <td>Wirz, Mr. Albert</td>\n",
       "      <td>male</td>\n",
       "      <td>27.0</td>\n",
       "      <td>0</td>\n",
       "      <td>0</td>\n",
       "      <td>315154</td>\n",
       "      <td>8.6625</td>\n",
       "      <td>S</td>\n",
       "      <td>8</td>\n",
       "    </tr>\n",
       "    <tr>\n",
       "      <th>4</th>\n",
       "      <td>896</td>\n",
       "      <td>3</td>\n",
       "      <td>Hirvonen, Mrs. Alexander (Helga E Lindqvist)</td>\n",
       "      <td>female</td>\n",
       "      <td>22.0</td>\n",
       "      <td>1</td>\n",
       "      <td>1</td>\n",
       "      <td>3101298</td>\n",
       "      <td>12.2875</td>\n",
       "      <td>S</td>\n",
       "      <td>8</td>\n",
       "    </tr>\n",
       "  </tbody>\n",
       "</table>\n",
       "</div>"
      ],
      "text/plain": [
       "   PassengerId  Pclass                                          Name     Sex  \\\n",
       "0          892       3                              Kelly, Mr. James    male   \n",
       "1          893       3              Wilkes, Mrs. James (Ellen Needs)  female   \n",
       "2          894       2                     Myles, Mr. Thomas Francis    male   \n",
       "3          895       3                              Wirz, Mr. Albert    male   \n",
       "4          896       3  Hirvonen, Mrs. Alexander (Helga E Lindqvist)  female   \n",
       "\n",
       "    Age  SibSp  Parch   Ticket     Fare Embarked  Deck  \n",
       "0  34.5      0      0   330911   7.8292        Q     8  \n",
       "1  47.0      1      0   363272   7.0000        S     8  \n",
       "2  62.0      0      0   240276   9.6875        Q     8  \n",
       "3  27.0      0      0   315154   8.6625        S     8  \n",
       "4  22.0      1      1  3101298  12.2875        S     8  "
      ]
     },
     "execution_count": 111,
     "metadata": {},
     "output_type": "execute_result"
    }
   ],
   "source": [
    "test_data.head()"
   ]
  },
  {
   "cell_type": "markdown",
   "id": "713fdf91-f8a1-4cbe-809f-bd78d4bd218a",
   "metadata": {},
   "source": [
    "#### Survived for deck"
   ]
  },
  {
   "cell_type": "code",
   "execution_count": 112,
   "id": "c915780b-04c9-4ea8-b168-33e1580d6d8d",
   "metadata": {},
   "outputs": [
    {
     "data": {
      "image/png": "[encoded data removed]",
      "text/plain": [
       "<Figure size 572.111x500 with 1 Axes>"
      ]
     },
     "metadata": {},
     "output_type": "display_data"
    }
   ],
   "source": [
    "sns.catplot(x='Deck', hue='Survived', data=train_data, kind='count').set(title='Deck and Survived')\n",
    "plt.show()"
   ]
  },
  {
   "cell_type": "code",
   "execution_count": 113,
   "id": "a4215db3-9736-4457-bbb4-b1a81b2bcdf9",
   "metadata": {},
   "outputs": [
    {
     "data": {
      "image/png": "[encoded data removed]",
      "text/plain": [
       "<Figure size 558.875x500 with 1 Axes>"
      ]
     },
     "metadata": {},
     "output_type": "display_data"
    }
   ],
   "source": [
    "sns.catplot(x='Deck', hue='Pclass', data=train_data, kind='count').set(title='Deck and Pclass')\n",
    "plt.show()"
   ]
  },
  {
   "cell_type": "markdown",
   "id": "396ce4d3-3e63-4008-bb0e-bdb59cc939b6",
   "metadata": {},
   "source": [
    "#### deck is an important feature"
   ]
  },
  {
   "cell_type": "markdown",
   "id": "4d767cd1-a0c7-4c11-8df7-fdbd230a5a2f",
   "metadata": {},
   "source": [
    "### For age"
   ]
  },
  {
   "cell_type": "code",
   "execution_count": 114,
   "id": "0cb6c044-07ed-43db-b939-1da7d95cb247",
   "metadata": {},
   "outputs": [
    {
     "data": {
      "image/png": "[encoded data removed]",
      "text/plain": [
       "<Figure size 640x480 with 1 Axes>"
      ]
     },
     "metadata": {},
     "output_type": "display_data"
    }
   ],
   "source": [
    "sns.boxplot(x='Age', data=train_data).set(title='Age Distribution')\n",
    "plt.show()"
   ]
  },
  {
   "cell_type": "code",
   "execution_count": 115,
   "id": "fb32ad8b-ba6b-4420-8ac1-70efb578637e",
   "metadata": {},
   "outputs": [
    {
     "data": {
      "image/png": "[encoded data removed]",
      "text/plain": [
       "<Figure size 640x480 with 1 Axes>"
      ]
     },
     "metadata": {},
     "output_type": "display_data"
    }
   ],
   "source": [
    "sns.boxplot(x='Age', data=test_data).set(title='Age Distribution')\n",
    "plt.show()"
   ]
  },
  {
   "cell_type": "code",
   "execution_count": 116,
   "id": "a52ffcfd-552a-4662-a496-307465cf1d74",
   "metadata": {},
   "outputs": [],
   "source": [
    "train_age_mean = train_data['Age'].mean()\n",
    "train_data['Age'] = train_data['Age'].fillna(train_age_mean)\n",
    "test_data['Age'] = test_data['Age'].fillna(train_age_mean)"
   ]
  },
  {
   "cell_type": "markdown",
   "id": "92f45794-c292-4122-9585-4ed94bea57bc",
   "metadata": {},
   "source": [
    "#### Implement Age bucket"
   ]
  },
  {
   "cell_type": "code",
   "execution_count": 117,
   "id": "de4e0506-0351-4aff-b53f-926c687d4ade",
   "metadata": {},
   "outputs": [],
   "source": [
    "train_data['Age_buck'] = train_data['Age']\n",
    "test_data['Age_buck'] = test_data['Age']"
   ]
  },
  {
   "cell_type": "code",
   "execution_count": 118,
   "id": "b105c29a-9fad-40a1-9825-b0e7ced6727e",
   "metadata": {},
   "outputs": [
    {
     "data": {
      "text/plain": [
       "4    303\n",
       "6    148\n",
       "3    106\n",
       "5    103\n",
       "2     92\n",
       "1     71\n",
       "0     68\n",
       "Name: Age_buck, dtype: int64"
      ]
     },
     "execution_count": 118,
     "metadata": {},
     "output_type": "execute_result"
    }
   ],
   "source": [
    "data = [train_data, test_data]\n",
    "for dataset in data:\n",
    "    dataset['Age_buck'] = dataset['Age_buck'].astype(int)\n",
    "    dataset.loc[dataset['Age_buck'] <= 11, 'Age_buck'] = 0\n",
    "    dataset.loc[(dataset['Age_buck'] > 11) & (dataset['Age_buck'] <= 18), 'Age_buck'] = 1\n",
    "    dataset.loc[(dataset['Age_buck'] > 18) & (dataset['Age_buck'] <= 22), 'Age_buck'] = 2\n",
    "    dataset.loc[(dataset['Age_buck'] > 22) & (dataset['Age_buck'] <= 27), 'Age_buck'] = 3\n",
    "    dataset.loc[(dataset['Age_buck'] > 27) & (dataset['Age_buck'] <= 33), 'Age_buck'] = 4\n",
    "    dataset.loc[(dataset['Age_buck'] > 33) & (dataset['Age_buck'] <= 40), 'Age_buck'] = 5\n",
    "    dataset.loc[(dataset['Age_buck'] > 40) & (dataset['Age_buck'] <= 66), 'Age_buck'] = 6\n",
    "    dataset.loc[dataset['Age_buck'] > 66, 'Age_buck'] = 6\n",
    "    \n",
    "# let's see how it's distributed \n",
    "train_data['Age_buck'].value_counts()"
   ]
  },
  {
   "cell_type": "code",
   "execution_count": 119,
   "id": "10642008-0a50-471d-83c5-6899c440eeae",
   "metadata": {},
   "outputs": [
    {
     "data": {
      "image/png": "[encoded data removed]",
      "text/plain": [
       "<Figure size 572.111x500 with 1 Axes>"
      ]
     },
     "metadata": {},
     "output_type": "display_data"
    }
   ],
   "source": [
    "sns.catplot(x='Age_buck', hue='Survived', data=train_data, kind='count').set(title='Age and Survived')\n",
    "plt.show()"
   ]
  },
  {
   "cell_type": "markdown",
   "id": "58899a19-a43d-4261-95f6-6f533b75d886",
   "metadata": {},
   "source": [
    "### For Fare"
   ]
  },
  {
   "cell_type": "code",
   "execution_count": 120,
   "id": "a18c7622-a564-463a-9665-8233c8872ad4",
   "metadata": {},
   "outputs": [
    {
     "data": {
      "image/png": "[encoded data removed]",
      "text/plain": [
       "<Figure size 640x480 with 1 Axes>"
      ]
     },
     "metadata": {},
     "output_type": "display_data"
    }
   ],
   "source": [
    "sns.boxplot(x='Fare', data=train_data).set(title='Fare Distribution')\n",
    "plt.show()"
   ]
  },
  {
   "cell_type": "code",
   "execution_count": 121,
   "id": "6339f31b-ce1f-49d2-a5f3-44551697485b",
   "metadata": {},
   "outputs": [],
   "source": [
    "train_fare_median = train_data['Fare'].median()\n",
    "test_data['Fare'] = test_data['Fare'].fillna(train_fare_median)"
   ]
  },
  {
   "cell_type": "markdown",
   "id": "41ecf6e8-6051-487c-b3c6-5c5cb428593e",
   "metadata": {},
   "source": [
    "### Embarked"
   ]
  },
  {
   "cell_type": "code",
   "execution_count": 128,
   "id": "8cfe8fcb-3d45-48e1-9867-90c90057d8f2",
   "metadata": {},
   "outputs": [
    {
     "name": "stdout",
     "output_type": "stream",
     "text": [
      "<class 'pandas.core.frame.DataFrame'>\n",
      "RangeIndex: 891 entries, 0 to 890\n",
      "Data columns (total 13 columns):\n",
      " #   Column       Non-Null Count  Dtype  \n",
      "---  ------       --------------  -----  \n",
      " 0   PassengerId  891 non-null    int64  \n",
      " 1   Survived     891 non-null    int64  \n",
      " 2   Pclass       891 non-null    int64  \n",
      " 3   Name         891 non-null    object \n",
      " 4   Sex          891 non-null    object \n",
      " 5   Age          891 non-null    float64\n",
      " 6   SibSp        891 non-null    int64  \n",
      " 7   Parch        891 non-null    int64  \n",
      " 8   Ticket       891 non-null    object \n",
      " 9   Fare         891 non-null    float64\n",
      " 10  Embarked     889 non-null    object \n",
      " 11  Deck         891 non-null    int32  \n",
      " 12  Age_buck     891 non-null    int32  \n",
      "dtypes: float64(2), int32(2), int64(5), object(4)\n",
      "memory usage: 83.7+ KB\n"
     ]
    }
   ],
   "source": [
    "train_data.info()"
   ]
  },
  {
   "cell_type": "code",
   "execution_count": 129,
   "id": "a6facbb4-0398-4e36-acc4-f92f968904ef",
   "metadata": {},
   "outputs": [],
   "source": [
    "train_data['Embarked'] = train_data['Embarked'].fillna('S')"
   ]
  },
  {
   "cell_type": "code",
   "execution_count": 130,
   "id": "bc4588d7-fa6b-4702-aa64-28f3c213ae1b",
   "metadata": {},
   "outputs": [
    {
     "name": "stdout",
     "output_type": "stream",
     "text": [
      "<class 'pandas.core.frame.DataFrame'>\n",
      "RangeIndex: 891 entries, 0 to 890\n",
      "Data columns (total 13 columns):\n",
      " #   Column       Non-Null Count  Dtype  \n",
      "---  ------       --------------  -----  \n",
      " 0   PassengerId  891 non-null    int64  \n",
      " 1   Survived     891 non-null    int64  \n",
      " 2   Pclass       891 non-null    int64  \n",
      " 3   Name         891 non-null    object \n",
      " 4   Sex          891 non-null    object \n",
      " 5   Age          891 non-null    float64\n",
      " 6   SibSp        891 non-null    int64  \n",
      " 7   Parch        891 non-null    int64  \n",
      " 8   Ticket       891 non-null    object \n",
      " 9   Fare         891 non-null    float64\n",
      " 10  Embarked     891 non-null    object \n",
      " 11  Deck         891 non-null    int32  \n",
      " 12  Age_buck     891 non-null    int32  \n",
      "dtypes: float64(2), int32(2), int64(5), object(4)\n",
      "memory usage: 83.7+ KB\n"
     ]
    }
   ],
   "source": [
    "train_data.info()"
   ]
  },
  {
   "cell_type": "code",
   "execution_count": 131,
   "id": "219f615d-237d-42df-9b49-2d15c6d5bcfe",
   "metadata": {},
   "outputs": [
    {
     "name": "stdout",
     "output_type": "stream",
     "text": [
      "<class 'pandas.core.frame.DataFrame'>\n",
      "RangeIndex: 418 entries, 0 to 417\n",
      "Data columns (total 12 columns):\n",
      " #   Column       Non-Null Count  Dtype  \n",
      "---  ------       --------------  -----  \n",
      " 0   PassengerId  418 non-null    int64  \n",
      " 1   Pclass       418 non-null    int64  \n",
      " 2   Name         418 non-null    object \n",
      " 3   Sex          418 non-null    object \n",
      " 4   Age          418 non-null    float64\n",
      " 5   SibSp        418 non-null    int64  \n",
      " 6   Parch        418 non-null    int64  \n",
      " 7   Ticket       418 non-null    object \n",
      " 8   Fare         418 non-null    float64\n",
      " 9   Embarked     418 non-null    object \n",
      " 10  Deck         418 non-null    int32  \n",
      " 11  Age_buck     418 non-null    int32  \n",
      "dtypes: float64(2), int32(2), int64(4), object(4)\n",
      "memory usage: 36.0+ KB\n"
     ]
    }
   ],
   "source": [
    "test_data.info()"
   ]
  },
  {
   "cell_type": "markdown",
   "id": "29bcf17b-e518-44f4-bda3-7bb90a91005c",
   "metadata": {},
   "source": [
    "### Role and survival rate"
   ]
  },
  {
   "cell_type": "code",
   "execution_count": 132,
   "id": "d91084d2-7d00-4bab-8a7a-2621e657e3c4",
   "metadata": {},
   "outputs": [],
   "source": [
    "data = [train_data, test_data]\n",
    "titles = {'Mr': 1, 'Miss': 2, 'Mrs': 3, 'Master': 4, 'Rare': 5}\n",
    "for dataset in data:\n",
    "    # Extract titles\n",
    "    dataset['Title'] = dataset.Name.str.extract(' ([a-zA-Z]+)\\.', expand= False)\n",
    "    # Replace titles with a more common title or as Rare\n",
    "    dataset['Title'] = dataset['Title'].replace(['Lady', 'Countess', 'Cap', 'Col', 'Don', 'Dr'\\\n",
    "                                                 'Major', 'Rev', 'Sir', 'Jonkheer', 'Dona'], 'Rare')\n",
    "    dataset['Title'] = dataset['Title'].replace('Mlle', 'Miss')\n",
    "    dataset['Title'] = dataset['Title'].replace('Ms', 'Miss')\n",
    "    dataset['Title'] = dataset['Title'].replace('Mme', 'Mrs')\n",
    "    \n",
    "    # Convert titles into numbers\n",
    "    dataset['Title'] = dataset['Title'].map(titles)\n",
    "    # Filling NaN with 0, to get safe\n",
    "    dataset['Title'] = dataset['Title'].fillna(0)\n",
    "    dataset['Title'] = dataset['Title'].astype(int)\n",
    "    "
   ]
  },
  {
   "cell_type": "code",
   "execution_count": 133,
   "id": "47d4ba3b-4879-409b-9cff-c405a1824412",
   "metadata": {},
   "outputs": [
    {
     "data": {
      "text/html": [
       "<div>\n",
       "<style scoped>\n",
       "    .dataframe tbody tr th:only-of-type {\n",
       "        vertical-align: middle;\n",
       "    }\n",
       "\n",
       "    .dataframe tbody tr th {\n",
       "        vertical-align: top;\n",
       "    }\n",
       "\n",
       "    .dataframe thead th {\n",
       "        text-align: right;\n",
       "    }\n",
       "</style>\n",
       "<table border=\"1\" class=\"dataframe\">\n",
       "  <thead>\n",
       "    <tr style=\"text-align: right;\">\n",
       "      <th></th>\n",
       "      <th>PassengerId</th>\n",
       "      <th>Survived</th>\n",
       "      <th>Pclass</th>\n",
       "      <th>Name</th>\n",
       "      <th>Sex</th>\n",
       "      <th>Age</th>\n",
       "      <th>SibSp</th>\n",
       "      <th>Parch</th>\n",
       "      <th>Ticket</th>\n",
       "      <th>Fare</th>\n",
       "      <th>Embarked</th>\n",
       "      <th>Deck</th>\n",
       "      <th>Age_buck</th>\n",
       "      <th>Title</th>\n",
       "    </tr>\n",
       "  </thead>\n",
       "  <tbody>\n",
       "    <tr>\n",
       "      <th>0</th>\n",
       "      <td>1</td>\n",
       "      <td>0</td>\n",
       "      <td>3</td>\n",
       "      <td>Braund, Mr. Owen Harris</td>\n",
       "      <td>male</td>\n",
       "      <td>22.0</td>\n",
       "      <td>1</td>\n",
       "      <td>0</td>\n",
       "      <td>A/5 21171</td>\n",
       "      <td>7.2500</td>\n",
       "      <td>S</td>\n",
       "      <td>8</td>\n",
       "      <td>2</td>\n",
       "      <td>1</td>\n",
       "    </tr>\n",
       "    <tr>\n",
       "      <th>1</th>\n",
       "      <td>2</td>\n",
       "      <td>1</td>\n",
       "      <td>1</td>\n",
       "      <td>Cumings, Mrs. John Bradley (Florence Briggs Th...</td>\n",
       "      <td>female</td>\n",
       "      <td>38.0</td>\n",
       "      <td>1</td>\n",
       "      <td>0</td>\n",
       "      <td>PC 17599</td>\n",
       "      <td>71.2833</td>\n",
       "      <td>C</td>\n",
       "      <td>3</td>\n",
       "      <td>5</td>\n",
       "      <td>3</td>\n",
       "    </tr>\n",
       "    <tr>\n",
       "      <th>2</th>\n",
       "      <td>3</td>\n",
       "      <td>1</td>\n",
       "      <td>3</td>\n",
       "      <td>Heikkinen, Miss. Laina</td>\n",
       "      <td>female</td>\n",
       "      <td>26.0</td>\n",
       "      <td>0</td>\n",
       "      <td>0</td>\n",
       "      <td>STON/O2. 3101282</td>\n",
       "      <td>7.9250</td>\n",
       "      <td>S</td>\n",
       "      <td>8</td>\n",
       "      <td>3</td>\n",
       "      <td>2</td>\n",
       "    </tr>\n",
       "    <tr>\n",
       "      <th>3</th>\n",
       "      <td>4</td>\n",
       "      <td>1</td>\n",
       "      <td>1</td>\n",
       "      <td>Futrelle, Mrs. Jacques Heath (Lily May Peel)</td>\n",
       "      <td>female</td>\n",
       "      <td>35.0</td>\n",
       "      <td>1</td>\n",
       "      <td>0</td>\n",
       "      <td>113803</td>\n",
       "      <td>53.1000</td>\n",
       "      <td>S</td>\n",
       "      <td>3</td>\n",
       "      <td>5</td>\n",
       "      <td>3</td>\n",
       "    </tr>\n",
       "    <tr>\n",
       "      <th>4</th>\n",
       "      <td>5</td>\n",
       "      <td>0</td>\n",
       "      <td>3</td>\n",
       "      <td>Allen, Mr. William Henry</td>\n",
       "      <td>male</td>\n",
       "      <td>35.0</td>\n",
       "      <td>0</td>\n",
       "      <td>0</td>\n",
       "      <td>373450</td>\n",
       "      <td>8.0500</td>\n",
       "      <td>S</td>\n",
       "      <td>8</td>\n",
       "      <td>5</td>\n",
       "      <td>1</td>\n",
       "    </tr>\n",
       "  </tbody>\n",
       "</table>\n",
       "</div>"
      ],
      "text/plain": [
       "   PassengerId  Survived  Pclass  \\\n",
       "0            1         0       3   \n",
       "1            2         1       1   \n",
       "2            3         1       3   \n",
       "3            4         1       1   \n",
       "4            5         0       3   \n",
       "\n",
       "                                                Name     Sex   Age  SibSp  \\\n",
       "0                            Braund, Mr. Owen Harris    male  22.0      1   \n",
       "1  Cumings, Mrs. John Bradley (Florence Briggs Th...  female  38.0      1   \n",
       "2                             Heikkinen, Miss. Laina  female  26.0      0   \n",
       "3       Futrelle, Mrs. Jacques Heath (Lily May Peel)  female  35.0      1   \n",
       "4                           Allen, Mr. William Henry    male  35.0      0   \n",
       "\n",
       "   Parch            Ticket     Fare Embarked  Deck  Age_buck  Title  \n",
       "0      0         A/5 21171   7.2500        S     8         2      1  \n",
       "1      0          PC 17599  71.2833        C     3         5      3  \n",
       "2      0  STON/O2. 3101282   7.9250        S     8         3      2  \n",
       "3      0            113803  53.1000        S     3         5      3  \n",
       "4      0            373450   8.0500        S     8         5      1  "
      ]
     },
     "execution_count": 133,
     "metadata": {},
     "output_type": "execute_result"
    }
   ],
   "source": [
    "train_data.head()"
   ]
  },
  {
   "cell_type": "code",
   "execution_count": 134,
   "id": "365afcbb-9550-412f-9755-37a967eca726",
   "metadata": {},
   "outputs": [
    {
     "data": {
      "image/png": "[encoded data removed]",
      "text/plain": [
       "<Figure size 572.111x500 with 1 Axes>"
      ]
     },
     "metadata": {},
     "output_type": "display_data"
    }
   ],
   "source": [
    "sns.catplot(x='Title', hue='Survived', data=train_data, kind='count').set(title='title and Survived')\n",
    "plt.show()"
   ]
  },
  {
   "cell_type": "markdown",
   "id": "a6260cd0-053f-4278-bcd4-8a91fb7456db",
   "metadata": {},
   "source": [
    "### Family size and survival rate"
   ]
  },
  {
   "cell_type": "code",
   "execution_count": 135,
   "id": "74d16a0f-b262-4380-8cb5-de68ce33c301",
   "metadata": {},
   "outputs": [],
   "source": [
    "train_data['Family_size'] = train_data['SibSp'] + train_data['Parch'] + 1\n",
    "test_data['Family_size'] = test_data['SibSp'] + test_data['Parch'] + 1"
   ]
  },
  {
   "cell_type": "code",
   "execution_count": 137,
   "id": "6a38bfd9-7659-4e18-83de-c0b3f401e81f",
   "metadata": {},
   "outputs": [
    {
     "data": {
      "image/png": "[encoded data removed]",
      "text/plain": [
       "<Figure size 572.111x500 with 1 Axes>"
      ]
     },
     "metadata": {},
     "output_type": "display_data"
    }
   ],
   "source": [
    "sns.catplot(x='Family_size', hue='Survived', data=train_data, kind='count').set(title='Survived and family_size')\n",
    "plt.show()"
   ]
  },
  {
   "cell_type": "code",
   "execution_count": 141,
   "id": "cb2e1b9d-8c33-44d0-a44c-7a93a30173f3",
   "metadata": {},
   "outputs": [
    {
     "data": {
      "image/png": "[encoded data removed]",
      "text/plain": [
       "<Figure size 572.111x500 with 1 Axes>"
      ]
     },
     "metadata": {},
     "output_type": "display_data"
    }
   ],
   "source": [
    "sns.catplot(x='Parch', hue='Survived', data=train_data, kind='count').set(title='Survived and Parch')\n",
    "plt.show()"
   ]
  },
  {
   "cell_type": "code",
   "execution_count": 142,
   "id": "a0b42290-91d3-49dd-9872-15a3e44e8af7",
   "metadata": {},
   "outputs": [
    {
     "data": {
      "image/png": "[encoded data removed]",
      "text/plain": [
       "<Figure size 572.111x500 with 1 Axes>"
      ]
     },
     "metadata": {},
     "output_type": "display_data"
    }
   ],
   "source": [
    "sns.catplot(x='SibSp', hue='Survived', data=train_data, kind='count').set(title='Survived and SibSp')\n",
    "plt.show()"
   ]
  },
  {
   "cell_type": "code",
   "execution_count": 152,
   "id": "2f11b147-d7a8-4987-b5d2-05035295b1b3",
   "metadata": {},
   "outputs": [],
   "source": [
    "bins = [0,1,4,20]\n",
    "labels = ['solo','normal_family', 'big_family']\n",
    "\n",
    "train_data['Family_bucket'] = pd.cut(x=train_data['Family_size'], bins=bins,labels=labels).astype('object')\n",
    "\n",
    "test_data['Family_bucket'] = pd.cut(x=test_data['Family_size'], bins=bins, labels=labels).astype('object')"
   ]
  },
  {
   "cell_type": "code",
   "execution_count": 153,
   "id": "7c66ad60-1dda-4438-90c3-36073c072495",
   "metadata": {},
   "outputs": [
    {
     "data": {
      "image/png": "[encoded data removed]",
      "text/plain": [
       "<Figure size 572.111x500 with 1 Axes>"
      ]
     },
     "metadata": {},
     "output_type": "display_data"
    }
   ],
   "source": [
    "# family_size and survived\n",
    "sns.catplot(x='Family_bucket', hue='Survived', data=train_data, kind='count').set(title='Survived and family_bucket')\n",
    "plt.show()"
   ]
  },
  {
   "cell_type": "code",
   "execution_count": 154,
   "id": "c8c3528b-3ebc-4128-bec1-e59423d0d2ec",
   "metadata": {},
   "outputs": [
    {
     "name": "stdout",
     "output_type": "stream",
     "text": [
      "<class 'pandas.core.frame.DataFrame'>\n",
      "RangeIndex: 891 entries, 0 to 890\n",
      "Data columns (total 16 columns):\n",
      " #   Column         Non-Null Count  Dtype  \n",
      "---  ------         --------------  -----  \n",
      " 0   PassengerId    891 non-null    int64  \n",
      " 1   Survived       891 non-null    int64  \n",
      " 2   Pclass         891 non-null    int64  \n",
      " 3   Name           891 non-null    object \n",
      " 4   Sex            891 non-null    object \n",
      " 5   Age            891 non-null    float64\n",
      " 6   SibSp          891 non-null    int64  \n",
      " 7   Parch          891 non-null    int64  \n",
      " 8   Ticket         891 non-null    object \n",
      " 9   Fare           891 non-null    float64\n",
      " 10  Embarked       891 non-null    object \n",
      " 11  Deck           891 non-null    int32  \n",
      " 12  Age_buck       891 non-null    int32  \n",
      " 13  Title          891 non-null    int32  \n",
      " 14  Family_size    891 non-null    int64  \n",
      " 15  Family_bucket  891 non-null    object \n",
      "dtypes: float64(2), int32(3), int64(6), object(5)\n",
      "memory usage: 101.1+ KB\n"
     ]
    }
   ],
   "source": [
    "train_data.info()"
   ]
  },
  {
   "cell_type": "markdown",
   "id": "5321f32a-0238-4777-a276-0ac43d8e7b25",
   "metadata": {},
   "source": [
    "### Age times Pclass"
   ]
  },
  {
   "cell_type": "code",
   "execution_count": 155,
   "id": "01561ad8-a9cb-441d-80cd-40e51a7df8ce",
   "metadata": {},
   "outputs": [],
   "source": [
    "data = [train_data, test_data]\n",
    "for dataset in data:\n",
    "    dataset['Age_Class'] = dataset['Age'] * dataset['Pclass']"
   ]
  },
  {
   "cell_type": "code",
   "execution_count": 157,
   "id": "17dc8d2b-7ca2-49a8-9515-cd928c22d297",
   "metadata": {},
   "outputs": [
    {
     "data": {
      "text/html": [
       "<div>\n",
       "<style scoped>\n",
       "    .dataframe tbody tr th:only-of-type {\n",
       "        vertical-align: middle;\n",
       "    }\n",
       "\n",
       "    .dataframe tbody tr th {\n",
       "        vertical-align: top;\n",
       "    }\n",
       "\n",
       "    .dataframe thead th {\n",
       "        text-align: right;\n",
       "    }\n",
       "</style>\n",
       "<table border=\"1\" class=\"dataframe\">\n",
       "  <thead>\n",
       "    <tr style=\"text-align: right;\">\n",
       "      <th></th>\n",
       "      <th>PassengerId</th>\n",
       "      <th>Survived</th>\n",
       "      <th>Pclass</th>\n",
       "      <th>Name</th>\n",
       "      <th>Sex</th>\n",
       "      <th>Age</th>\n",
       "      <th>SibSp</th>\n",
       "      <th>Parch</th>\n",
       "      <th>Ticket</th>\n",
       "      <th>Fare</th>\n",
       "      <th>Embarked</th>\n",
       "      <th>Deck</th>\n",
       "      <th>Age_buck</th>\n",
       "      <th>Title</th>\n",
       "      <th>Family_size</th>\n",
       "      <th>Family_bucket</th>\n",
       "      <th>Age_Class</th>\n",
       "    </tr>\n",
       "  </thead>\n",
       "  <tbody>\n",
       "    <tr>\n",
       "      <th>0</th>\n",
       "      <td>1</td>\n",
       "      <td>0</td>\n",
       "      <td>3</td>\n",
       "      <td>Braund, Mr. Owen Harris</td>\n",
       "      <td>male</td>\n",
       "      <td>22.0</td>\n",
       "      <td>1</td>\n",
       "      <td>0</td>\n",
       "      <td>A/5 21171</td>\n",
       "      <td>7.2500</td>\n",
       "      <td>S</td>\n",
       "      <td>8</td>\n",
       "      <td>2</td>\n",
       "      <td>1</td>\n",
       "      <td>2</td>\n",
       "      <td>normal_family</td>\n",
       "      <td>66.0</td>\n",
       "    </tr>\n",
       "    <tr>\n",
       "      <th>1</th>\n",
       "      <td>2</td>\n",
       "      <td>1</td>\n",
       "      <td>1</td>\n",
       "      <td>Cumings, Mrs. John Bradley (Florence Briggs Th...</td>\n",
       "      <td>female</td>\n",
       "      <td>38.0</td>\n",
       "      <td>1</td>\n",
       "      <td>0</td>\n",
       "      <td>PC 17599</td>\n",
       "      <td>71.2833</td>\n",
       "      <td>C</td>\n",
       "      <td>3</td>\n",
       "      <td>5</td>\n",
       "      <td>3</td>\n",
       "      <td>2</td>\n",
       "      <td>normal_family</td>\n",
       "      <td>38.0</td>\n",
       "    </tr>\n",
       "    <tr>\n",
       "      <th>2</th>\n",
       "      <td>3</td>\n",
       "      <td>1</td>\n",
       "      <td>3</td>\n",
       "      <td>Heikkinen, Miss. Laina</td>\n",
       "      <td>female</td>\n",
       "      <td>26.0</td>\n",
       "      <td>0</td>\n",
       "      <td>0</td>\n",
       "      <td>STON/O2. 3101282</td>\n",
       "      <td>7.9250</td>\n",
       "      <td>S</td>\n",
       "      <td>8</td>\n",
       "      <td>3</td>\n",
       "      <td>2</td>\n",
       "      <td>1</td>\n",
       "      <td>solo</td>\n",
       "      <td>78.0</td>\n",
       "    </tr>\n",
       "    <tr>\n",
       "      <th>3</th>\n",
       "      <td>4</td>\n",
       "      <td>1</td>\n",
       "      <td>1</td>\n",
       "      <td>Futrelle, Mrs. Jacques Heath (Lily May Peel)</td>\n",
       "      <td>female</td>\n",
       "      <td>35.0</td>\n",
       "      <td>1</td>\n",
       "      <td>0</td>\n",
       "      <td>113803</td>\n",
       "      <td>53.1000</td>\n",
       "      <td>S</td>\n",
       "      <td>3</td>\n",
       "      <td>5</td>\n",
       "      <td>3</td>\n",
       "      <td>2</td>\n",
       "      <td>normal_family</td>\n",
       "      <td>35.0</td>\n",
       "    </tr>\n",
       "    <tr>\n",
       "      <th>4</th>\n",
       "      <td>5</td>\n",
       "      <td>0</td>\n",
       "      <td>3</td>\n",
       "      <td>Allen, Mr. William Henry</td>\n",
       "      <td>male</td>\n",
       "      <td>35.0</td>\n",
       "      <td>0</td>\n",
       "      <td>0</td>\n",
       "      <td>373450</td>\n",
       "      <td>8.0500</td>\n",
       "      <td>S</td>\n",
       "      <td>8</td>\n",
       "      <td>5</td>\n",
       "      <td>1</td>\n",
       "      <td>1</td>\n",
       "      <td>solo</td>\n",
       "      <td>105.0</td>\n",
       "    </tr>\n",
       "  </tbody>\n",
       "</table>\n",
       "</div>"
      ],
      "text/plain": [
       "   PassengerId  Survived  Pclass  \\\n",
       "0            1         0       3   \n",
       "1            2         1       1   \n",
       "2            3         1       3   \n",
       "3            4         1       1   \n",
       "4            5         0       3   \n",
       "\n",
       "                                                Name     Sex   Age  SibSp  \\\n",
       "0                            Braund, Mr. Owen Harris    male  22.0      1   \n",
       "1  Cumings, Mrs. John Bradley (Florence Briggs Th...  female  38.0      1   \n",
       "2                             Heikkinen, Miss. Laina  female  26.0      0   \n",
       "3       Futrelle, Mrs. Jacques Heath (Lily May Peel)  female  35.0      1   \n",
       "4                           Allen, Mr. William Henry    male  35.0      0   \n",
       "\n",
       "   Parch            Ticket     Fare Embarked  Deck  Age_buck  Title  \\\n",
       "0      0         A/5 21171   7.2500        S     8         2      1   \n",
       "1      0          PC 17599  71.2833        C     3         5      3   \n",
       "2      0  STON/O2. 3101282   7.9250        S     8         3      2   \n",
       "3      0            113803  53.1000        S     3         5      3   \n",
       "4      0            373450   8.0500        S     8         5      1   \n",
       "\n",
       "   Family_size  Family_bucket  Age_Class  \n",
       "0            2  normal_family       66.0  \n",
       "1            2  normal_family       38.0  \n",
       "2            1           solo       78.0  \n",
       "3            2  normal_family       35.0  \n",
       "4            1           solo      105.0  "
      ]
     },
     "execution_count": 157,
     "metadata": {},
     "output_type": "execute_result"
    }
   ],
   "source": [
    "train_data.head()"
   ]
  },
  {
   "cell_type": "markdown",
   "id": "aa1cbc84-24db-431d-a2ea-278961d40b59",
   "metadata": {},
   "source": [
    "## Find Correlation with survival"
   ]
  },
  {
   "cell_type": "code",
   "execution_count": 168,
   "id": "c132db50-f4e6-490e-bf4a-ec006260bf4d",
   "metadata": {},
   "outputs": [
    {
     "name": "stdout",
     "output_type": "stream",
     "text": [
      "<class 'pandas.core.frame.DataFrame'>\n",
      "RangeIndex: 891 entries, 0 to 890\n",
      "Data columns (total 17 columns):\n",
      " #   Column         Non-Null Count  Dtype  \n",
      "---  ------         --------------  -----  \n",
      " 0   PassengerId    891 non-null    int64  \n",
      " 1   Survived       891 non-null    int64  \n",
      " 2   Pclass         891 non-null    int64  \n",
      " 3   Name           891 non-null    object \n",
      " 4   Sex            891 non-null    object \n",
      " 5   Age            891 non-null    float64\n",
      " 6   SibSp          891 non-null    int64  \n",
      " 7   Parch          891 non-null    int64  \n",
      " 8   Ticket         891 non-null    object \n",
      " 9   Fare           891 non-null    float64\n",
      " 10  Embarked       891 non-null    object \n",
      " 11  Deck           891 non-null    int32  \n",
      " 12  Age_buck       891 non-null    int32  \n",
      " 13  Title          891 non-null    int32  \n",
      " 14  Family_size    891 non-null    int64  \n",
      " 15  Family_bucket  891 non-null    object \n",
      " 16  Age_Class      891 non-null    float64\n",
      "dtypes: float64(3), int32(3), int64(6), object(5)\n",
      "memory usage: 108.0+ KB\n"
     ]
    }
   ],
   "source": [
    "train_data.info()"
   ]
  },
  {
   "cell_type": "code",
   "execution_count": 209,
   "id": "5ba9c499-8b7f-4a6d-a489-135fe9c7ca15",
   "metadata": {},
   "outputs": [
    {
     "data": {
      "image/png": "[encoded data removed]",
      "text/plain": [
       "<Figure size 1200x600 with 1 Axes>"
      ]
     },
     "metadata": {},
     "output_type": "display_data"
    }
   ],
   "source": [
    "train_dummy = pd.get_dummies(train_data[[\"Pclass\", \"Sex\", 'Title','Embarked', 'Survived', 'Age_Class', 'Family_bucket', 'Deck', 'Fare', 'Age_buck', 'Parch', 'SibSp']])\n",
    "correlation = train_dummy.iloc[:, 1:].corr()['Survived'].sort_values(ascending=False)\n",
    "\n",
    "correlation[1:].plot(kind='bar', figsize=(12,6), title='Correlation with Survival')\n",
    "plt.show()"
   ]
  },
  {
   "cell_type": "code",
   "execution_count": 198,
   "id": "fd2467cb-e9a5-4393-9587-1c768038c387",
   "metadata": {},
   "outputs": [
    {
     "data": {
      "text/html": [
       "<style>#sk-container-id-9 {color: black;background-color: white;}#sk-container-id-9 pre{padding: 0;}#sk-container-id-9 div.sk-toggleable {background-color: white;}#sk-container-id-9 label.sk-toggleable__label {cursor: pointer;display: block;width: 100%;margin-bottom: 0;padding: 0.3em;box-sizing: border-box;text-align: center;}#sk-container-id-9 label.sk-toggleable__label-arrow:before {content: \"▸\";float: left;margin-right: 0.25em;color: #696969;}#sk-container-id-9 label.sk-toggleable__label-arrow:hover:before {color: black;}#sk-container-id-9 div.sk-estimator:hover label.sk-toggleable__label-arrow:before {color: black;}#sk-container-id-9 div.sk-toggleable__content {max-height: 0;max-width: 0;overflow: hidden;text-align: left;background-color: #f0f8ff;}#sk-container-id-9 div.sk-toggleable__content pre {margin: 0.2em;color: black;border-radius: 0.25em;background-color: #f0f8ff;}#sk-container-id-9 input.sk-toggleable__control:checked~div.sk-toggleable__content {max-height: 200px;max-width: 100%;overflow: auto;}#sk-container-id-9 input.sk-toggleable__control:checked~label.sk-toggleable__label-arrow:before {content: \"▾\";}#sk-container-id-9 div.sk-estimator input.sk-toggleable__control:checked~label.sk-toggleable__label {background-color: #d4ebff;}#sk-container-id-9 div.sk-label input.sk-toggleable__control:checked~label.sk-toggleable__label {background-color: #d4ebff;}#sk-container-id-9 input.sk-hidden--visually {border: 0;clip: rect(1px 1px 1px 1px);clip: rect(1px, 1px, 1px, 1px);height: 1px;margin: -1px;overflow: hidden;padding: 0;position: absolute;width: 1px;}#sk-container-id-9 div.sk-estimator {font-family: monospace;background-color: #f0f8ff;border: 1px dotted black;border-radius: 0.25em;box-sizing: border-box;margin-bottom: 0.5em;}#sk-container-id-9 div.sk-estimator:hover {background-color: #d4ebff;}#sk-container-id-9 div.sk-parallel-item::after {content: \"\";width: 100%;border-bottom: 1px solid gray;flex-grow: 1;}#sk-container-id-9 div.sk-label:hover label.sk-toggleable__label {background-color: #d4ebff;}#sk-container-id-9 div.sk-serial::before {content: \"\";position: absolute;border-left: 1px solid gray;box-sizing: border-box;top: 0;bottom: 0;left: 50%;z-index: 0;}#sk-container-id-9 div.sk-serial {display: flex;flex-direction: column;align-items: center;background-color: white;padding-right: 0.2em;padding-left: 0.2em;position: relative;}#sk-container-id-9 div.sk-item {position: relative;z-index: 1;}#sk-container-id-9 div.sk-parallel {display: flex;align-items: stretch;justify-content: center;background-color: white;position: relative;}#sk-container-id-9 div.sk-item::before, #sk-container-id-9 div.sk-parallel-item::before {content: \"\";position: absolute;border-left: 1px solid gray;box-sizing: border-box;top: 0;bottom: 0;left: 50%;z-index: -1;}#sk-container-id-9 div.sk-parallel-item {display: flex;flex-direction: column;z-index: 1;position: relative;background-color: white;}#sk-container-id-9 div.sk-parallel-item:first-child::after {align-self: flex-end;width: 50%;}#sk-container-id-9 div.sk-parallel-item:last-child::after {align-self: flex-start;width: 50%;}#sk-container-id-9 div.sk-parallel-item:only-child::after {width: 0;}#sk-container-id-9 div.sk-dashed-wrapped {border: 1px dashed gray;margin: 0 0.4em 0.5em 0.4em;box-sizing: border-box;padding-bottom: 0.4em;background-color: white;}#sk-container-id-9 div.sk-label label {font-family: monospace;font-weight: bold;display: inline-block;line-height: 1.2em;}#sk-container-id-9 div.sk-label-container {text-align: center;}#sk-container-id-9 div.sk-container {/* jupyter's `normalize.less` sets `[hidden] { display: none; }` but bootstrap.min.css set `[hidden] { display: none !important; }` so we also need the `!important` here to be able to override the default hidden behavior on the sphinx rendered scikit-learn.org. See: https://github.com/scikit-learn/scikit-learn/issues/21755 */display: inline-block !important;position: relative;}#sk-container-id-9 div.sk-text-repr-fallback {display: none;}</style><div id=\"sk-container-id-9\" class=\"sk-top-container\"><div class=\"sk-text-repr-fallback\"><pre>RandomForestClassifier(criterion=&#x27;entropy&#x27;, min_samples_split=10,\n",
       "                       n_estimators=300, oob_score=True, random_state=1)</pre><b>In a Jupyter environment, please rerun this cell to show the HTML representation or trust the notebook. <br />On GitHub, the HTML representation is unable to render, please try loading this page with nbviewer.org.</b></div><div class=\"sk-container\" hidden><div class=\"sk-item\"><div class=\"sk-estimator sk-toggleable\"><input class=\"sk-toggleable__control sk-hidden--visually\" id=\"sk-estimator-id-9\" type=\"checkbox\" checked><label for=\"sk-estimator-id-9\" class=\"sk-toggleable__label sk-toggleable__label-arrow\">RandomForestClassifier</label><div class=\"sk-toggleable__content\"><pre>RandomForestClassifier(criterion=&#x27;entropy&#x27;, min_samples_split=10,\n",
       "                       n_estimators=300, oob_score=True, random_state=1)</pre></div></div></div></div></div>"
      ],
      "text/plain": [
       "RandomForestClassifier(criterion='entropy', min_samples_split=10,\n",
       "                       n_estimators=300, oob_score=True, random_state=1)"
      ]
     },
     "execution_count": 198,
     "metadata": {},
     "output_type": "execute_result"
    }
   ],
   "source": [
    "y_train = train_data[\"Survived\"]\n",
    "\n",
    "features = [\"Pclass\", \"Sex\", 'Title','Embarked', 'Age_Class', 'Family_bucket', 'Deck', 'Fare']\n",
    "x_train = pd.get_dummies(train_data[features])\n",
    "\n",
    "rf_model = RandomForestClassifier(n_estimators=300, min_samples_split=10, random_state=1, criterion='entropy', oob_score=True)\n",
    "rf_model.fit(x_train, y_train)"
   ]
  },
  {
   "cell_type": "code",
   "execution_count": 199,
   "id": "4a89235c-bb4c-4fec-9a3a-e5e54f2609a9",
   "metadata": {},
   "outputs": [
    {
     "data": {
      "text/plain": [
       "array([0.07802724, 0.14296373, 0.20365712, 0.05964765, 0.19678989,\n",
       "       0.0985631 , 0.11390071, 0.0120246 , 0.0079248 , 0.01505752,\n",
       "       0.03283835, 0.02450145, 0.01410382])"
      ]
     },
     "execution_count": 199,
     "metadata": {},
     "output_type": "execute_result"
    }
   ],
   "source": [
    "rf_model.feature_importances_"
   ]
  },
  {
   "cell_type": "code",
   "execution_count": 200,
   "id": "f58871e3-677d-4d18-915a-804465c83a0d",
   "metadata": {},
   "outputs": [
    {
     "data": {
      "text/html": [
       "<div>\n",
       "<style scoped>\n",
       "    .dataframe tbody tr th:only-of-type {\n",
       "        vertical-align: middle;\n",
       "    }\n",
       "\n",
       "    .dataframe tbody tr th {\n",
       "        vertical-align: top;\n",
       "    }\n",
       "\n",
       "    .dataframe thead th {\n",
       "        text-align: right;\n",
       "    }\n",
       "</style>\n",
       "<table border=\"1\" class=\"dataframe\">\n",
       "  <thead>\n",
       "    <tr style=\"text-align: right;\">\n",
       "      <th></th>\n",
       "      <th>importance</th>\n",
       "    </tr>\n",
       "    <tr>\n",
       "      <th>feature</th>\n",
       "      <th></th>\n",
       "    </tr>\n",
       "  </thead>\n",
       "  <tbody>\n",
       "    <tr>\n",
       "      <th>Age_Class</th>\n",
       "      <td>0.204</td>\n",
       "    </tr>\n",
       "    <tr>\n",
       "      <th>Fare</th>\n",
       "      <td>0.197</td>\n",
       "    </tr>\n",
       "    <tr>\n",
       "      <th>Title</th>\n",
       "      <td>0.143</td>\n",
       "    </tr>\n",
       "    <tr>\n",
       "      <th>Sex_male</th>\n",
       "      <td>0.114</td>\n",
       "    </tr>\n",
       "    <tr>\n",
       "      <th>Sex_female</th>\n",
       "      <td>0.099</td>\n",
       "    </tr>\n",
       "    <tr>\n",
       "      <th>Pclass</th>\n",
       "      <td>0.078</td>\n",
       "    </tr>\n",
       "    <tr>\n",
       "      <th>Deck</th>\n",
       "      <td>0.060</td>\n",
       "    </tr>\n",
       "    <tr>\n",
       "      <th>Family_bucket_big_family</th>\n",
       "      <td>0.033</td>\n",
       "    </tr>\n",
       "    <tr>\n",
       "      <th>Family_bucket_normal_family</th>\n",
       "      <td>0.025</td>\n",
       "    </tr>\n",
       "    <tr>\n",
       "      <th>Embarked_S</th>\n",
       "      <td>0.015</td>\n",
       "    </tr>\n",
       "    <tr>\n",
       "      <th>Family_bucket_solo</th>\n",
       "      <td>0.014</td>\n",
       "    </tr>\n",
       "    <tr>\n",
       "      <th>Embarked_C</th>\n",
       "      <td>0.012</td>\n",
       "    </tr>\n",
       "    <tr>\n",
       "      <th>Embarked_Q</th>\n",
       "      <td>0.008</td>\n",
       "    </tr>\n",
       "  </tbody>\n",
       "</table>\n",
       "</div>"
      ],
      "text/plain": [
       "                             importance\n",
       "feature                                \n",
       "Age_Class                         0.204\n",
       "Fare                              0.197\n",
       "Title                             0.143\n",
       "Sex_male                          0.114\n",
       "Sex_female                        0.099\n",
       "Pclass                            0.078\n",
       "Deck                              0.060\n",
       "Family_bucket_big_family          0.033\n",
       "Family_bucket_normal_family       0.025\n",
       "Embarked_S                        0.015\n",
       "Family_bucket_solo                0.014\n",
       "Embarked_C                        0.012\n",
       "Embarked_Q                        0.008"
      ]
     },
     "execution_count": 200,
     "metadata": {},
     "output_type": "execute_result"
    }
   ],
   "source": [
    "importances = pd.DataFrame({'feature': x_train.columns, 'importance': np.round(rf_model.feature_importances_, 3)})\n",
    "importances = importances.sort_values('importance', ascending= False).set_index('feature')\n",
    "\n",
    "importances.head(15)"
   ]
  },
  {
   "cell_type": "code",
   "execution_count": 201,
   "id": "4d7b8da8-c63c-44d5-82c1-80a021a42d74",
   "metadata": {},
   "outputs": [
    {
     "data": {
      "text/plain": [
       "91.35802469135803"
      ]
     },
     "execution_count": 201,
     "metadata": {},
     "output_type": "execute_result"
    }
   ],
   "source": [
    "rf_model.score(x_train, y_train) * 100"
   ]
  },
  {
   "cell_type": "code",
   "execution_count": 202,
   "id": "e40356d7-b3e7-4962-804f-da0ee2bd7990",
   "metadata": {},
   "outputs": [
    {
     "data": {
      "text/plain": [
       "0.8305274971941639"
      ]
     },
     "execution_count": 202,
     "metadata": {},
     "output_type": "execute_result"
    }
   ],
   "source": [
    "rf_model.oob_score_"
   ]
  },
  {
   "cell_type": "code",
   "execution_count": 203,
   "id": "b1400b11-b5c3-4222-9f3e-0b30f74ab2ba",
   "metadata": {},
   "outputs": [],
   "source": [
    "x_test = pd.get_dummies(test_data[features])"
   ]
  },
  {
   "cell_type": "code",
   "execution_count": 204,
   "id": "53ecfc97-6172-4517-93a0-d80dca5b754d",
   "metadata": {},
   "outputs": [],
   "source": [
    "predictions =rf_model.predict(x_test)"
   ]
  },
  {
   "cell_type": "code",
   "execution_count": 205,
   "id": "2135eceb-ea80-4ed1-831a-0cf391a49454",
   "metadata": {},
   "outputs": [],
   "source": [
    "output = pd.DataFrame({'PassengerId': test_data.PassengerId, 'Survived': predictions})"
   ]
  },
  {
   "cell_type": "code",
   "execution_count": 206,
   "id": "96c39e63-b5eb-4f1a-97e0-928c2d66ba9c",
   "metadata": {},
   "outputs": [],
   "source": [
    "output.to_csv('RF_updated.csv', index=False)"
   ]
  },
  {
   "cell_type": "code",
   "execution_count": 222,
   "id": "d3717fe0-2b83-4af0-852f-aaed44dd6138",
   "metadata": {},
   "outputs": [
    {
     "data": {
      "text/html": [
       "<style>#sk-container-id-17 {color: black;background-color: white;}#sk-container-id-17 pre{padding: 0;}#sk-container-id-17 div.sk-toggleable {background-color: white;}#sk-container-id-17 label.sk-toggleable__label {cursor: pointer;display: block;width: 100%;margin-bottom: 0;padding: 0.3em;box-sizing: border-box;text-align: center;}#sk-container-id-17 label.sk-toggleable__label-arrow:before {content: \"▸\";float: left;margin-right: 0.25em;color: #696969;}#sk-container-id-17 label.sk-toggleable__label-arrow:hover:before {color: black;}#sk-container-id-17 div.sk-estimator:hover label.sk-toggleable__label-arrow:before {color: black;}#sk-container-id-17 div.sk-toggleable__content {max-height: 0;max-width: 0;overflow: hidden;text-align: left;background-color: #f0f8ff;}#sk-container-id-17 div.sk-toggleable__content pre {margin: 0.2em;color: black;border-radius: 0.25em;background-color: #f0f8ff;}#sk-container-id-17 input.sk-toggleable__control:checked~div.sk-toggleable__content {max-height: 200px;max-width: 100%;overflow: auto;}#sk-container-id-17 input.sk-toggleable__control:checked~label.sk-toggleable__label-arrow:before {content: \"▾\";}#sk-container-id-17 div.sk-estimator input.sk-toggleable__control:checked~label.sk-toggleable__label {background-color: #d4ebff;}#sk-container-id-17 div.sk-label input.sk-toggleable__control:checked~label.sk-toggleable__label {background-color: #d4ebff;}#sk-container-id-17 input.sk-hidden--visually {border: 0;clip: rect(1px 1px 1px 1px);clip: rect(1px, 1px, 1px, 1px);height: 1px;margin: -1px;overflow: hidden;padding: 0;position: absolute;width: 1px;}#sk-container-id-17 div.sk-estimator {font-family: monospace;background-color: #f0f8ff;border: 1px dotted black;border-radius: 0.25em;box-sizing: border-box;margin-bottom: 0.5em;}#sk-container-id-17 div.sk-estimator:hover {background-color: #d4ebff;}#sk-container-id-17 div.sk-parallel-item::after {content: \"\";width: 100%;border-bottom: 1px solid gray;flex-grow: 1;}#sk-container-id-17 div.sk-label:hover label.sk-toggleable__label {background-color: #d4ebff;}#sk-container-id-17 div.sk-serial::before {content: \"\";position: absolute;border-left: 1px solid gray;box-sizing: border-box;top: 0;bottom: 0;left: 50%;z-index: 0;}#sk-container-id-17 div.sk-serial {display: flex;flex-direction: column;align-items: center;background-color: white;padding-right: 0.2em;padding-left: 0.2em;position: relative;}#sk-container-id-17 div.sk-item {position: relative;z-index: 1;}#sk-container-id-17 div.sk-parallel {display: flex;align-items: stretch;justify-content: center;background-color: white;position: relative;}#sk-container-id-17 div.sk-item::before, #sk-container-id-17 div.sk-parallel-item::before {content: \"\";position: absolute;border-left: 1px solid gray;box-sizing: border-box;top: 0;bottom: 0;left: 50%;z-index: -1;}#sk-container-id-17 div.sk-parallel-item {display: flex;flex-direction: column;z-index: 1;position: relative;background-color: white;}#sk-container-id-17 div.sk-parallel-item:first-child::after {align-self: flex-end;width: 50%;}#sk-container-id-17 div.sk-parallel-item:last-child::after {align-self: flex-start;width: 50%;}#sk-container-id-17 div.sk-parallel-item:only-child::after {width: 0;}#sk-container-id-17 div.sk-dashed-wrapped {border: 1px dashed gray;margin: 0 0.4em 0.5em 0.4em;box-sizing: border-box;padding-bottom: 0.4em;background-color: white;}#sk-container-id-17 div.sk-label label {font-family: monospace;font-weight: bold;display: inline-block;line-height: 1.2em;}#sk-container-id-17 div.sk-label-container {text-align: center;}#sk-container-id-17 div.sk-container {/* jupyter's `normalize.less` sets `[hidden] { display: none; }` but bootstrap.min.css set `[hidden] { display: none !important; }` so we also need the `!important` here to be able to override the default hidden behavior on the sphinx rendered scikit-learn.org. See: https://github.com/scikit-learn/scikit-learn/issues/21755 */display: inline-block !important;position: relative;}#sk-container-id-17 div.sk-text-repr-fallback {display: none;}</style><div id=\"sk-container-id-17\" class=\"sk-top-container\"><div class=\"sk-text-repr-fallback\"><pre>RandomForestClassifier(criterion=&#x27;entropy&#x27;, max_depth=7, n_estimators=300,\n",
       "                       oob_score=True, random_state=1)</pre><b>In a Jupyter environment, please rerun this cell to show the HTML representation or trust the notebook. <br />On GitHub, the HTML representation is unable to render, please try loading this page with nbviewer.org.</b></div><div class=\"sk-container\" hidden><div class=\"sk-item\"><div class=\"sk-estimator sk-toggleable\"><input class=\"sk-toggleable__control sk-hidden--visually\" id=\"sk-estimator-id-17\" type=\"checkbox\" checked><label for=\"sk-estimator-id-17\" class=\"sk-toggleable__label sk-toggleable__label-arrow\">RandomForestClassifier</label><div class=\"sk-toggleable__content\"><pre>RandomForestClassifier(criterion=&#x27;entropy&#x27;, max_depth=7, n_estimators=300,\n",
       "                       oob_score=True, random_state=1)</pre></div></div></div></div></div>"
      ],
      "text/plain": [
       "RandomForestClassifier(criterion='entropy', max_depth=7, n_estimators=300,\n",
       "                       oob_score=True, random_state=1)"
      ]
     },
     "execution_count": 222,
     "metadata": {},
     "output_type": "execute_result"
    }
   ],
   "source": [
    "\n",
    "features = [\"Pclass\", \"Sex\", 'Title', 'Age_Class', 'Family_bucket', 'Deck', 'Fare', 'Age_buck']\n",
    "x_train_updated = pd.get_dummies(train_data[features])\n",
    "\n",
    "rf_model = RandomForestClassifier(n_estimators=300, max_depth=7, random_state=1, criterion='entropy', oob_score=True)\n",
    "rf_model.fit(x_train_updated, y_train)"
   ]
  },
  {
   "cell_type": "code",
   "execution_count": 223,
   "id": "b84b4cf6-ce9e-411c-a4ce-e46a08e52b67",
   "metadata": {},
   "outputs": [],
   "source": [
    "x_test = pd.get_dummies(test_data[features])\n",
    "predictions =rf_model.predict(x_test)\n",
    "output = pd.DataFrame({'PassengerId': test_data.PassengerId, 'Survived': predictions})\n",
    "output.to_csv('RF_updated2.csv', index=False)"
   ]
  },
  {
   "cell_type": "code",
   "execution_count": 224,
   "id": "ecf165bf-422d-4adb-8645-1affcbf00ad9",
   "metadata": {},
   "outputs": [
    {
     "data": {
      "text/html": [
       "<div>\n",
       "<style scoped>\n",
       "    .dataframe tbody tr th:only-of-type {\n",
       "        vertical-align: middle;\n",
       "    }\n",
       "\n",
       "    .dataframe tbody tr th {\n",
       "        vertical-align: top;\n",
       "    }\n",
       "\n",
       "    .dataframe thead th {\n",
       "        text-align: right;\n",
       "    }\n",
       "</style>\n",
       "<table border=\"1\" class=\"dataframe\">\n",
       "  <thead>\n",
       "    <tr style=\"text-align: right;\">\n",
       "      <th></th>\n",
       "      <th>importance</th>\n",
       "    </tr>\n",
       "    <tr>\n",
       "      <th>feature</th>\n",
       "      <th></th>\n",
       "    </tr>\n",
       "  </thead>\n",
       "  <tbody>\n",
       "    <tr>\n",
       "      <th>Title</th>\n",
       "      <td>0.166</td>\n",
       "    </tr>\n",
       "    <tr>\n",
       "      <th>Fare</th>\n",
       "      <td>0.149</td>\n",
       "    </tr>\n",
       "    <tr>\n",
       "      <th>Age_Class</th>\n",
       "      <td>0.142</td>\n",
       "    </tr>\n",
       "    <tr>\n",
       "      <th>Sex_female</th>\n",
       "      <td>0.139</td>\n",
       "    </tr>\n",
       "    <tr>\n",
       "      <th>Sex_male</th>\n",
       "      <td>0.115</td>\n",
       "    </tr>\n",
       "    <tr>\n",
       "      <th>Pclass</th>\n",
       "      <td>0.090</td>\n",
       "    </tr>\n",
       "    <tr>\n",
       "      <th>Deck</th>\n",
       "      <td>0.063</td>\n",
       "    </tr>\n",
       "    <tr>\n",
       "      <th>Age_buck</th>\n",
       "      <td>0.053</td>\n",
       "    </tr>\n",
       "    <tr>\n",
       "      <th>Family_bucket_big_family</th>\n",
       "      <td>0.044</td>\n",
       "    </tr>\n",
       "    <tr>\n",
       "      <th>Family_bucket_normal_family</th>\n",
       "      <td>0.025</td>\n",
       "    </tr>\n",
       "    <tr>\n",
       "      <th>Family_bucket_solo</th>\n",
       "      <td>0.014</td>\n",
       "    </tr>\n",
       "  </tbody>\n",
       "</table>\n",
       "</div>"
      ],
      "text/plain": [
       "                             importance\n",
       "feature                                \n",
       "Title                             0.166\n",
       "Fare                              0.149\n",
       "Age_Class                         0.142\n",
       "Sex_female                        0.139\n",
       "Sex_male                          0.115\n",
       "Pclass                            0.090\n",
       "Deck                              0.063\n",
       "Age_buck                          0.053\n",
       "Family_bucket_big_family          0.044\n",
       "Family_bucket_normal_family       0.025\n",
       "Family_bucket_solo                0.014"
      ]
     },
     "execution_count": 224,
     "metadata": {},
     "output_type": "execute_result"
    }
   ],
   "source": [
    "importances = pd.DataFrame({'feature': x_train_updated.columns, 'importance': np.round(rf_model.feature_importances_, 3)})\n",
    "importances = importances.sort_values('importance', ascending= False).set_index('feature')\n",
    "\n",
    "importances.head(15)"
   ]
  },
  {
   "cell_type": "code",
   "execution_count": 225,
   "id": "570f3a59-2051-4c99-a919-7097a71cb8ee",
   "metadata": {},
   "outputs": [
    {
     "data": {
      "text/plain": [
       "0.8327721661054994"
      ]
     },
     "execution_count": 225,
     "metadata": {},
     "output_type": "execute_result"
    }
   ],
   "source": [
    "rf_model.oob_score_"
   ]
  },
  {
   "cell_type": "code",
   "execution_count": 226,
   "id": "a453ad4e-7a49-4e23-96e1-d6ac4c1fc840",
   "metadata": {},
   "outputs": [
    {
     "data": {
      "text/plain": [
       "0.8911335578002245"
      ]
     },
     "execution_count": 226,
     "metadata": {},
     "output_type": "execute_result"
    }
   ],
   "source": [
    "rf_model.score(x_train_updated, y_train)"
   ]
  },
  {
   "cell_type": "code",
   "execution_count": null,
   "id": "b996a9ff-5c8c-4604-96e2-893a9aa23976",
   "metadata": {},
   "outputs": [],
   "source": []
  }
 ],
 "metadata": {
  "kernelspec": {
   "display_name": "Python 3 (ipykernel)",
   "language": "python",
   "name": "python3"
  },
  "language_info": {
   "codemirror_mode": {
    "name": "ipython",
    "version": 3
   },
   "file_extension": ".py",
   "mimetype": "text/x-python",
   "name": "python",
   "nbconvert_exporter": "python",
   "pygments_lexer": "ipython3",
   "version": "3.10.8"
  }
 },
 "nbformat": 4,
 "nbformat_minor": 5
}
